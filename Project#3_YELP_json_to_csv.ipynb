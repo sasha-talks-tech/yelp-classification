{
 "cells": [
  {
   "cell_type": "markdown",
   "metadata": {},
   "source": [
    "# Data Collection"
   ]
  },
  {
   "cell_type": "markdown",
   "metadata": {},
   "source": [
    "The purpose of this notebook is to gather data from the [Yelp website](https://www.yelp.com/dataset), and convert it into a more usable format. The original dataset is nearly 10GB of JSON files. Since for the scope of this project we are only interested in restaurant data, we are going to convert the files into csv format, and make relevant merges and deletions, in order to make the analysis more memory-efficient. These files will be utilized in the next notebook for exploratory data analysis and modeling."
   ]
  },
  {
   "cell_type": "code",
   "execution_count": 2,
   "metadata": {},
   "outputs": [],
   "source": [
    "import pandas as pd\n",
    "import numpy as np\n",
    "import json\n",
    "from pandas.io.json import json_normalize"
   ]
  },
  {
   "cell_type": "markdown",
   "metadata": {},
   "source": [
    "Yelp Dataset comes with 5 json files: business, checkin, user, review and tip. We convert them into the csv files. for further cleaning and EDA."
   ]
  },
  {
   "cell_type": "markdown",
   "metadata": {},
   "source": [
    "**Glossary of df names:** <br>\n",
    "* **df_business:** yelp's business.json. Contains business_id, name, geo info, stars, review count, attributes, categories and hours. Also exists as *'business_yelp.csv'*.\n",
    "* **restaurant_df:** created by me, filtered for restaurants that are open. Contains same columns as business, minus the hours. Also exists in csv: *'restaurant_bus_yelp.csv'*.\n",
    "* **df_user:** yelp's user.json. Not yet filtered for restaurants! Nearly 2 million users listed, so it will have to be merged with other df in order to distinguish restaurants. Also exists as *'user_yelp.csv'*.\n",
    "* **review.json:** currently *work in progress*. Might not use for this project. It's nearly 6GB. Definitely needs to be reduced and normalized.\n",
    "* **df_checkin:** yelp's checkin.json. With \"total\" column added.\n",
    "* **restaurant_checkin_df** restaurant_df + df_checkin, merged on business_id. Also exists as 'restaurant_checkin.csv'.\n",
    "* **df_tip:** yelp's tip.json. Contains user_id, business_id, text of the tip, date\tand compliment_count."
   ]
  },
  {
   "cell_type": "markdown",
   "metadata": {},
   "source": [
    "**Note:** Not all the df's mentioned above will be used in the analysis. In fact, the df that we use for modeling will be created in the EDA notebook. The df's from the glossary are just here for exporatory purposes."
   ]
  },
  {
   "cell_type": "markdown",
   "metadata": {},
   "source": [
    "### 1) Business json --> csv"
   ]
  },
  {
   "cell_type": "code",
   "execution_count": 30,
   "metadata": {},
   "outputs": [],
   "source": [
    "business_json_path = 'yelp_dataset/yelp_academic_dataset_business.json'\n",
    "df_business = pd.read_json(business_json_path, lines=True)"
   ]
  },
  {
   "cell_type": "code",
   "execution_count": 31,
   "metadata": {},
   "outputs": [
    {
     "data": {
      "text/html": [
       "<div>\n",
       "<style scoped>\n",
       "    .dataframe tbody tr th:only-of-type {\n",
       "        vertical-align: middle;\n",
       "    }\n",
       "\n",
       "    .dataframe tbody tr th {\n",
       "        vertical-align: top;\n",
       "    }\n",
       "\n",
       "    .dataframe thead th {\n",
       "        text-align: right;\n",
       "    }\n",
       "</style>\n",
       "<table border=\"1\" class=\"dataframe\">\n",
       "  <thead>\n",
       "    <tr style=\"text-align: right;\">\n",
       "      <th></th>\n",
       "      <th>business_id</th>\n",
       "      <th>name</th>\n",
       "      <th>address</th>\n",
       "      <th>city</th>\n",
       "      <th>state</th>\n",
       "      <th>postal_code</th>\n",
       "      <th>latitude</th>\n",
       "      <th>longitude</th>\n",
       "      <th>stars</th>\n",
       "      <th>review_count</th>\n",
       "      <th>is_open</th>\n",
       "      <th>attributes</th>\n",
       "      <th>categories</th>\n",
       "      <th>hours</th>\n",
       "    </tr>\n",
       "  </thead>\n",
       "  <tbody>\n",
       "    <tr>\n",
       "      <td>0</td>\n",
       "      <td>f9NumwFMBDn751xgFiRbNA</td>\n",
       "      <td>The Range At Lake Norman</td>\n",
       "      <td>10913 Bailey Rd</td>\n",
       "      <td>Cornelius</td>\n",
       "      <td>NC</td>\n",
       "      <td>28031</td>\n",
       "      <td>35.462724</td>\n",
       "      <td>-80.852612</td>\n",
       "      <td>3.5</td>\n",
       "      <td>36</td>\n",
       "      <td>1</td>\n",
       "      <td>{'BusinessAcceptsCreditCards': 'True', 'BikePa...</td>\n",
       "      <td>Active Life, Gun/Rifle Ranges, Guns &amp; Ammo, Sh...</td>\n",
       "      <td>{'Monday': '10:0-18:0', 'Tuesday': '11:0-20:0'...</td>\n",
       "    </tr>\n",
       "    <tr>\n",
       "      <td>1</td>\n",
       "      <td>Yzvjg0SayhoZgCljUJRF9Q</td>\n",
       "      <td>Carlos Santo, NMD</td>\n",
       "      <td>8880 E Via Linda, Ste 107</td>\n",
       "      <td>Scottsdale</td>\n",
       "      <td>AZ</td>\n",
       "      <td>85258</td>\n",
       "      <td>33.569404</td>\n",
       "      <td>-111.890264</td>\n",
       "      <td>5.0</td>\n",
       "      <td>4</td>\n",
       "      <td>1</td>\n",
       "      <td>{'GoodForKids': 'True', 'ByAppointmentOnly': '...</td>\n",
       "      <td>Health &amp; Medical, Fitness &amp; Instruction, Yoga,...</td>\n",
       "      <td>None</td>\n",
       "    </tr>\n",
       "  </tbody>\n",
       "</table>\n",
       "</div>"
      ],
      "text/plain": [
       "              business_id                      name  \\\n",
       "0  f9NumwFMBDn751xgFiRbNA  The Range At Lake Norman   \n",
       "1  Yzvjg0SayhoZgCljUJRF9Q         Carlos Santo, NMD   \n",
       "\n",
       "                     address        city state postal_code   latitude  \\\n",
       "0            10913 Bailey Rd   Cornelius    NC       28031  35.462724   \n",
       "1  8880 E Via Linda, Ste 107  Scottsdale    AZ       85258  33.569404   \n",
       "\n",
       "    longitude  stars  review_count  is_open  \\\n",
       "0  -80.852612    3.5            36        1   \n",
       "1 -111.890264    5.0             4        1   \n",
       "\n",
       "                                          attributes  \\\n",
       "0  {'BusinessAcceptsCreditCards': 'True', 'BikePa...   \n",
       "1  {'GoodForKids': 'True', 'ByAppointmentOnly': '...   \n",
       "\n",
       "                                          categories  \\\n",
       "0  Active Life, Gun/Rifle Ranges, Guns & Ammo, Sh...   \n",
       "1  Health & Medical, Fitness & Instruction, Yoga,...   \n",
       "\n",
       "                                               hours  \n",
       "0  {'Monday': '10:0-18:0', 'Tuesday': '11:0-20:0'...  \n",
       "1                                               None  "
      ]
     },
     "execution_count": 31,
     "metadata": {},
     "output_type": "execute_result"
    }
   ],
   "source": [
    "df_business.head(2)"
   ]
  },
  {
   "cell_type": "code",
   "execution_count": 32,
   "metadata": {},
   "outputs": [
    {
     "data": {
      "text/plain": [
       "(209393, 14)"
      ]
     },
     "execution_count": 32,
     "metadata": {},
     "output_type": "execute_result"
    }
   ],
   "source": [
    "df_business.shape"
   ]
  },
  {
   "cell_type": "code",
   "execution_count": 8,
   "metadata": {},
   "outputs": [],
   "source": [
    "df_business.to_csv('business_yelp.csv')"
   ]
  },
  {
   "cell_type": "raw",
   "metadata": {},
   "source": [
    "Filtering out businesses that are closed:"
   ]
  },
  {
   "cell_type": "code",
   "execution_count": 33,
   "metadata": {},
   "outputs": [],
   "source": [
    "df_business = df_business[df_business['is_open']==1]"
   ]
  },
  {
   "cell_type": "code",
   "execution_count": 34,
   "metadata": {},
   "outputs": [],
   "source": [
    "drop_columns = ['hours','is_open']\n",
    "df_business = df_business.drop(drop_columns, axis=1)"
   ]
  },
  {
   "cell_type": "markdown",
   "metadata": {},
   "source": [
    "#### Restaurant_df created:"
   ]
  },
  {
   "cell_type": "markdown",
   "metadata": {},
   "source": [
    "More filtering: keeping only the restaurants."
   ]
  },
  {
   "cell_type": "code",
   "execution_count": 35,
   "metadata": {},
   "outputs": [],
   "source": [
    "restaurant_df = df_business[df_business['categories'].str.contains(\n",
    "              'Restaurants',\n",
    "              case=False, na=False)]"
   ]
  },
  {
   "cell_type": "code",
   "execution_count": 36,
   "metadata": {},
   "outputs": [
    {
     "data": {
      "text/html": [
       "<div>\n",
       "<style scoped>\n",
       "    .dataframe tbody tr th:only-of-type {\n",
       "        vertical-align: middle;\n",
       "    }\n",
       "\n",
       "    .dataframe tbody tr th {\n",
       "        vertical-align: top;\n",
       "    }\n",
       "\n",
       "    .dataframe thead th {\n",
       "        text-align: right;\n",
       "    }\n",
       "</style>\n",
       "<table border=\"1\" class=\"dataframe\">\n",
       "  <thead>\n",
       "    <tr style=\"text-align: right;\">\n",
       "      <th></th>\n",
       "      <th>business_id</th>\n",
       "      <th>name</th>\n",
       "      <th>address</th>\n",
       "      <th>city</th>\n",
       "      <th>state</th>\n",
       "      <th>postal_code</th>\n",
       "      <th>latitude</th>\n",
       "      <th>longitude</th>\n",
       "      <th>stars</th>\n",
       "      <th>review_count</th>\n",
       "      <th>attributes</th>\n",
       "      <th>categories</th>\n",
       "    </tr>\n",
       "  </thead>\n",
       "  <tbody>\n",
       "    <tr>\n",
       "      <td>8</td>\n",
       "      <td>pQeaRpvuhoEqudo3uymHIQ</td>\n",
       "      <td>The Empanadas House</td>\n",
       "      <td>404 E Green St</td>\n",
       "      <td>Champaign</td>\n",
       "      <td>IL</td>\n",
       "      <td>61820</td>\n",
       "      <td>40.110446</td>\n",
       "      <td>-88.233073</td>\n",
       "      <td>4.5</td>\n",
       "      <td>5</td>\n",
       "      <td>{'RestaurantsAttire': 'u'casual'', 'Restaurant...</td>\n",
       "      <td>Ethnic Food, Food Trucks, Specialty Food, Impo...</td>\n",
       "    </tr>\n",
       "    <tr>\n",
       "      <td>24</td>\n",
       "      <td>eBEfgOPG7pvFhb2wcG9I7w</td>\n",
       "      <td>Philthy Phillys</td>\n",
       "      <td>15480 Bayview Avenue, unit D0110</td>\n",
       "      <td>Aurora</td>\n",
       "      <td>ON</td>\n",
       "      <td>L4G 7J1</td>\n",
       "      <td>44.010962</td>\n",
       "      <td>-79.448677</td>\n",
       "      <td>4.5</td>\n",
       "      <td>4</td>\n",
       "      <td>{'RestaurantsTableService': 'False', 'Restaura...</td>\n",
       "      <td>Restaurants, Cheesesteaks, Poutineries</td>\n",
       "    </tr>\n",
       "    <tr>\n",
       "      <td>25</td>\n",
       "      <td>lu7vtrp_bE9PnxWfA8g4Pg</td>\n",
       "      <td>Banzai Sushi</td>\n",
       "      <td>300 John Street</td>\n",
       "      <td>Thornhill</td>\n",
       "      <td>ON</td>\n",
       "      <td>L3T 5W4</td>\n",
       "      <td>43.820492</td>\n",
       "      <td>-79.398466</td>\n",
       "      <td>4.5</td>\n",
       "      <td>7</td>\n",
       "      <td>{'GoodForKids': 'True', 'RestaurantsTakeOut': ...</td>\n",
       "      <td>Japanese, Fast Food, Food Court, Restaurants</td>\n",
       "    </tr>\n",
       "    <tr>\n",
       "      <td>30</td>\n",
       "      <td>9sRGfSVEfLhN_km60YruTA</td>\n",
       "      <td>Apadana Restaurant</td>\n",
       "      <td>13071 Yonge Street</td>\n",
       "      <td>Richmond Hill</td>\n",
       "      <td>ON</td>\n",
       "      <td>L4E 1A5</td>\n",
       "      <td>43.947011</td>\n",
       "      <td>-79.454862</td>\n",
       "      <td>3.0</td>\n",
       "      <td>3</td>\n",
       "      <td>{'Ambience': '{'touristy': False, 'hipster': F...</td>\n",
       "      <td>Persian/Iranian, Turkish, Middle Eastern, Rest...</td>\n",
       "    </tr>\n",
       "    <tr>\n",
       "      <td>33</td>\n",
       "      <td>vjTVxnsQEZ34XjYNS-XUpA</td>\n",
       "      <td>Wetzel's Pretzels</td>\n",
       "      <td>4550 East Cactus Rd, #KSFC-4</td>\n",
       "      <td>Phoenix</td>\n",
       "      <td>AZ</td>\n",
       "      <td>85032</td>\n",
       "      <td>33.602822</td>\n",
       "      <td>-111.983533</td>\n",
       "      <td>4.0</td>\n",
       "      <td>10</td>\n",
       "      <td>{'GoodForKids': 'True', 'RestaurantsTakeOut': ...</td>\n",
       "      <td>Food, Pretzels, Bakeries, Fast Food, Restaurants</td>\n",
       "    </tr>\n",
       "  </tbody>\n",
       "</table>\n",
       "</div>"
      ],
      "text/plain": [
       "               business_id                 name  \\\n",
       "8   pQeaRpvuhoEqudo3uymHIQ  The Empanadas House   \n",
       "24  eBEfgOPG7pvFhb2wcG9I7w      Philthy Phillys   \n",
       "25  lu7vtrp_bE9PnxWfA8g4Pg         Banzai Sushi   \n",
       "30  9sRGfSVEfLhN_km60YruTA   Apadana Restaurant   \n",
       "33  vjTVxnsQEZ34XjYNS-XUpA    Wetzel's Pretzels   \n",
       "\n",
       "                             address           city state postal_code  \\\n",
       "8                     404 E Green St      Champaign    IL       61820   \n",
       "24  15480 Bayview Avenue, unit D0110         Aurora    ON     L4G 7J1   \n",
       "25                   300 John Street      Thornhill    ON     L3T 5W4   \n",
       "30                13071 Yonge Street  Richmond Hill    ON     L4E 1A5   \n",
       "33      4550 East Cactus Rd, #KSFC-4        Phoenix    AZ       85032   \n",
       "\n",
       "     latitude   longitude  stars  review_count  \\\n",
       "8   40.110446  -88.233073    4.5             5   \n",
       "24  44.010962  -79.448677    4.5             4   \n",
       "25  43.820492  -79.398466    4.5             7   \n",
       "30  43.947011  -79.454862    3.0             3   \n",
       "33  33.602822 -111.983533    4.0            10   \n",
       "\n",
       "                                           attributes  \\\n",
       "8   {'RestaurantsAttire': 'u'casual'', 'Restaurant...   \n",
       "24  {'RestaurantsTableService': 'False', 'Restaura...   \n",
       "25  {'GoodForKids': 'True', 'RestaurantsTakeOut': ...   \n",
       "30  {'Ambience': '{'touristy': False, 'hipster': F...   \n",
       "33  {'GoodForKids': 'True', 'RestaurantsTakeOut': ...   \n",
       "\n",
       "                                           categories  \n",
       "8   Ethnic Food, Food Trucks, Specialty Food, Impo...  \n",
       "24             Restaurants, Cheesesteaks, Poutineries  \n",
       "25       Japanese, Fast Food, Food Court, Restaurants  \n",
       "30  Persian/Iranian, Turkish, Middle Eastern, Rest...  \n",
       "33   Food, Pretzels, Bakeries, Fast Food, Restaurants  "
      ]
     },
     "execution_count": 36,
     "metadata": {},
     "output_type": "execute_result"
    }
   ],
   "source": [
    "restaurant_df.head()"
   ]
  },
  {
   "cell_type": "code",
   "execution_count": 54,
   "metadata": {},
   "outputs": [
    {
     "data": {
      "text/plain": [
       "(43965, 12)"
      ]
     },
     "execution_count": 54,
     "metadata": {},
     "output_type": "execute_result"
    }
   ],
   "source": [
    "restaurant_df.shape"
   ]
  },
  {
   "cell_type": "code",
   "execution_count": 55,
   "metadata": {},
   "outputs": [],
   "source": [
    "df_restaurant_explode = restaurant_df.assign(categories = restaurant_df.categories\n",
    "                         .str.split(', ')).explode('categories')"
   ]
  },
  {
   "cell_type": "code",
   "execution_count": 56,
   "metadata": {},
   "outputs": [
    {
     "data": {
      "text/plain": [
       "Restaurants                      43965\n",
       "Food                             11909\n",
       "Fast Food                         7032\n",
       "Nightlife                         6455\n",
       "Bars                              6242\n",
       "                                 ...  \n",
       "Trampoline Parks                     1\n",
       "Foundation Repair                    1\n",
       "Aircraft Repairs                     1\n",
       "Hiking                               1\n",
       "IT Services & Computer Repair        1\n",
       "Name: categories, Length: 777, dtype: int64"
      ]
     },
     "execution_count": 56,
     "metadata": {},
     "output_type": "execute_result"
    }
   ],
   "source": [
    "df_restaurant_explode.categories.value_counts()"
   ]
  },
  {
   "cell_type": "code",
   "execution_count": 57,
   "metadata": {},
   "outputs": [
    {
     "data": {
      "text/plain": [
       "Restaurants    43965\n",
       "Name: categories, dtype: int64"
      ]
     },
     "execution_count": 57,
     "metadata": {},
     "output_type": "execute_result"
    }
   ],
   "source": [
    "df_restaurant_explode[df_restaurant_explode.categories.str.match('Restaurants',\n",
    "                      case=True,na=False)].categories.value_counts()"
   ]
  },
  {
   "cell_type": "markdown",
   "metadata": {},
   "source": [
    "Now, we will have the csv file with just restaurants:"
   ]
  },
  {
   "cell_type": "code",
   "execution_count": 65,
   "metadata": {},
   "outputs": [],
   "source": [
    "restaurant_df.to_csv('restaurant_bus_yelp.csv')"
   ]
  },
  {
   "cell_type": "markdown",
   "metadata": {},
   "source": [
    "### 2) User json --> csv"
   ]
  },
  {
   "cell_type": "code",
   "execution_count": null,
   "metadata": {},
   "outputs": [],
   "source": [
    "user_json_path = 'yelp_dataset/yelp_academic_dataset_user.json'\n",
    "df_user = pd.read_json(user_json_path, lines=True)"
   ]
  },
  {
   "cell_type": "code",
   "execution_count": 10,
   "metadata": {},
   "outputs": [
    {
     "data": {
      "text/html": [
       "<div>\n",
       "<style scoped>\n",
       "    .dataframe tbody tr th:only-of-type {\n",
       "        vertical-align: middle;\n",
       "    }\n",
       "\n",
       "    .dataframe tbody tr th {\n",
       "        vertical-align: top;\n",
       "    }\n",
       "\n",
       "    .dataframe thead th {\n",
       "        text-align: right;\n",
       "    }\n",
       "</style>\n",
       "<table border=\"1\" class=\"dataframe\">\n",
       "  <thead>\n",
       "    <tr style=\"text-align: right;\">\n",
       "      <th></th>\n",
       "      <th>user_id</th>\n",
       "      <th>name</th>\n",
       "      <th>review_count</th>\n",
       "      <th>yelping_since</th>\n",
       "      <th>useful</th>\n",
       "      <th>funny</th>\n",
       "      <th>cool</th>\n",
       "      <th>elite</th>\n",
       "      <th>friends</th>\n",
       "      <th>fans</th>\n",
       "      <th>...</th>\n",
       "      <th>compliment_more</th>\n",
       "      <th>compliment_profile</th>\n",
       "      <th>compliment_cute</th>\n",
       "      <th>compliment_list</th>\n",
       "      <th>compliment_note</th>\n",
       "      <th>compliment_plain</th>\n",
       "      <th>compliment_cool</th>\n",
       "      <th>compliment_funny</th>\n",
       "      <th>compliment_writer</th>\n",
       "      <th>compliment_photos</th>\n",
       "    </tr>\n",
       "  </thead>\n",
       "  <tbody>\n",
       "    <tr>\n",
       "      <td>0</td>\n",
       "      <td>ntlvfPzc8eglqvk92iDIAw</td>\n",
       "      <td>Rafael</td>\n",
       "      <td>553</td>\n",
       "      <td>2007-07-06 03:27:11</td>\n",
       "      <td>628</td>\n",
       "      <td>225</td>\n",
       "      <td>227</td>\n",
       "      <td></td>\n",
       "      <td>oeMvJh94PiGQnx_6GlndPQ, wm1z1PaJKvHgSDRKfwhfDg...</td>\n",
       "      <td>14</td>\n",
       "      <td>...</td>\n",
       "      <td>2</td>\n",
       "      <td>1</td>\n",
       "      <td>0</td>\n",
       "      <td>1</td>\n",
       "      <td>11</td>\n",
       "      <td>15</td>\n",
       "      <td>22</td>\n",
       "      <td>22</td>\n",
       "      <td>10</td>\n",
       "      <td>0</td>\n",
       "    </tr>\n",
       "    <tr>\n",
       "      <td>1</td>\n",
       "      <td>FOBRPlBHa3WPHFB5qYDlVg</td>\n",
       "      <td>Michelle</td>\n",
       "      <td>564</td>\n",
       "      <td>2008-04-28 01:29:25</td>\n",
       "      <td>790</td>\n",
       "      <td>316</td>\n",
       "      <td>400</td>\n",
       "      <td>2008,2009,2010,2011,2012,2013</td>\n",
       "      <td>ly7EnE8leJmyqyePVYFlug, pRlR63iDytsnnniPb3AOug...</td>\n",
       "      <td>27</td>\n",
       "      <td>...</td>\n",
       "      <td>4</td>\n",
       "      <td>5</td>\n",
       "      <td>2</td>\n",
       "      <td>1</td>\n",
       "      <td>33</td>\n",
       "      <td>37</td>\n",
       "      <td>63</td>\n",
       "      <td>63</td>\n",
       "      <td>21</td>\n",
       "      <td>5</td>\n",
       "    </tr>\n",
       "  </tbody>\n",
       "</table>\n",
       "<p>2 rows × 22 columns</p>\n",
       "</div>"
      ],
      "text/plain": [
       "                  user_id      name  review_count        yelping_since  \\\n",
       "0  ntlvfPzc8eglqvk92iDIAw    Rafael           553  2007-07-06 03:27:11   \n",
       "1  FOBRPlBHa3WPHFB5qYDlVg  Michelle           564  2008-04-28 01:29:25   \n",
       "\n",
       "   useful  funny  cool                          elite  \\\n",
       "0     628    225   227                                  \n",
       "1     790    316   400  2008,2009,2010,2011,2012,2013   \n",
       "\n",
       "                                             friends  fans  ...  \\\n",
       "0  oeMvJh94PiGQnx_6GlndPQ, wm1z1PaJKvHgSDRKfwhfDg...    14  ...   \n",
       "1  ly7EnE8leJmyqyePVYFlug, pRlR63iDytsnnniPb3AOug...    27  ...   \n",
       "\n",
       "   compliment_more  compliment_profile  compliment_cute  compliment_list  \\\n",
       "0                2                   1                0                1   \n",
       "1                4                   5                2                1   \n",
       "\n",
       "   compliment_note  compliment_plain  compliment_cool  compliment_funny  \\\n",
       "0               11                15               22                22   \n",
       "1               33                37               63                63   \n",
       "\n",
       "   compliment_writer  compliment_photos  \n",
       "0                 10                  0  \n",
       "1                 21                  5  \n",
       "\n",
       "[2 rows x 22 columns]"
      ]
     },
     "execution_count": 10,
     "metadata": {},
     "output_type": "execute_result"
    }
   ],
   "source": [
    "df_user.head(2)"
   ]
  },
  {
   "cell_type": "code",
   "execution_count": 11,
   "metadata": {},
   "outputs": [
    {
     "data": {
      "text/plain": [
       "(1968703, 22)"
      ]
     },
     "execution_count": 11,
     "metadata": {},
     "output_type": "execute_result"
    }
   ],
   "source": [
    "df_user.shape"
   ]
  },
  {
   "cell_type": "code",
   "execution_count": 12,
   "metadata": {},
   "outputs": [],
   "source": [
    "df_user.to_csv('user_yelp.csv')"
   ]
  },
  {
   "cell_type": "markdown",
   "metadata": {},
   "source": [
    "Note: I did not end up using the user data for this project, since at this time my approach is product-centric, but I might use this df in further projects down the line, so this dataframe stays here."
   ]
  },
  {
   "cell_type": "markdown",
   "metadata": {},
   "source": [
    "### 3) Review json --> csv"
   ]
  },
  {
   "cell_type": "code",
   "execution_count": null,
   "metadata": {},
   "outputs": [],
   "source": [
    "##############################################################################\n",
    "# I Probaly won't use the review data for this project, but I will need it for NLP!\n",
    "# Planning to do sentiment analysis of the reviews for the next project.\n",
    "# Only if I figure out how to drop the text of the reviews and just keep the stars.\n",
    "##############################################################################"
   ]
  },
  {
   "cell_type": "code",
   "execution_count": 5,
   "metadata": {},
   "outputs": [],
   "source": [
    "size = 10000\n",
    "review_json_path = 'yelp_dataset/yelp_academic_dataset_review.json'\n",
    "\n",
    "# review_df = pd.read_json(review_json_path, lines=True, chunksize=size)\n",
    "review_df = pd.read_json(review_json_path, lines=True,\n",
    "                      dtype={'review_id':str,'user_id':str,\n",
    "                             'business_id':str,'stars':int,\n",
    "                             'date':str,'text':str,'useful':int,\n",
    "                             'funny':int,'cool':int},\n",
    "                      chunksize=size)"
   ]
  },
  {
   "cell_type": "code",
   "execution_count": 7,
   "metadata": {},
   "outputs": [],
   "source": [
    "#review_df = pd.io.json.json_normalize(review_df, max_level = 2)\n",
    "review_df = pd.DataFrame(review_df)"
   ]
  },
  {
   "cell_type": "code",
   "execution_count": 8,
   "metadata": {},
   "outputs": [
    {
     "data": {
      "text/html": [
       "<div>\n",
       "<style scoped>\n",
       "    .dataframe tbody tr th:only-of-type {\n",
       "        vertical-align: middle;\n",
       "    }\n",
       "\n",
       "    .dataframe tbody tr th {\n",
       "        vertical-align: top;\n",
       "    }\n",
       "\n",
       "    .dataframe thead th {\n",
       "        text-align: right;\n",
       "    }\n",
       "</style>\n",
       "<table border=\"1\" class=\"dataframe\">\n",
       "  <thead>\n",
       "    <tr style=\"text-align: right;\">\n",
       "      <th></th>\n",
       "    </tr>\n",
       "  </thead>\n",
       "  <tbody>\n",
       "  </tbody>\n",
       "</table>\n",
       "</div>"
      ],
      "text/plain": [
       "Empty DataFrame\n",
       "Columns: []\n",
       "Index: []"
      ]
     },
     "execution_count": 8,
     "metadata": {},
     "output_type": "execute_result"
    }
   ],
   "source": [
    "review_df.head()"
   ]
  },
  {
   "cell_type": "code",
   "execution_count": null,
   "metadata": {},
   "outputs": [],
   "source": [
    "##############################################################################\n",
    "# I Probaly won't use the review data for this project, but I will need it for NLP!\n",
    "##############################################################################"
   ]
  },
  {
   "cell_type": "markdown",
   "metadata": {},
   "source": [
    "Note:  I did not end up using the user data for this project, since i am saving it for the NLP. I need to find a better way of handling large files. "
   ]
  },
  {
   "cell_type": "markdown",
   "metadata": {},
   "source": [
    "Disclaimer: I advise you against running the code above, it takes forever, and everything crashes."
   ]
  },
  {
   "cell_type": "markdown",
   "metadata": {},
   "source": [
    "### 4) Checkins "
   ]
  },
  {
   "cell_type": "code",
   "execution_count": 66,
   "metadata": {},
   "outputs": [],
   "source": [
    "checkin_json_path = 'yelp_dataset/yelp_academic_dataset_checkin.json'\n",
    "df_checkin = pd.read_json(checkin_json_path, lines=True)"
   ]
  },
  {
   "cell_type": "code",
   "execution_count": 70,
   "metadata": {},
   "outputs": [
    {
     "data": {
      "text/html": [
       "<div>\n",
       "<style scoped>\n",
       "    .dataframe tbody tr th:only-of-type {\n",
       "        vertical-align: middle;\n",
       "    }\n",
       "\n",
       "    .dataframe tbody tr th {\n",
       "        vertical-align: top;\n",
       "    }\n",
       "\n",
       "    .dataframe thead th {\n",
       "        text-align: right;\n",
       "    }\n",
       "</style>\n",
       "<table border=\"1\" class=\"dataframe\">\n",
       "  <thead>\n",
       "    <tr style=\"text-align: right;\">\n",
       "      <th></th>\n",
       "      <th>business_id</th>\n",
       "      <th>date</th>\n",
       "    </tr>\n",
       "  </thead>\n",
       "  <tbody>\n",
       "    <tr>\n",
       "      <td>1740</td>\n",
       "      <td>-cFce5TloT-REJDHDgKDbA</td>\n",
       "      <td>2013-12-22 18:19:55, 2014-01-09 21:17:04, 2014...</td>\n",
       "    </tr>\n",
       "    <tr>\n",
       "      <td>91718</td>\n",
       "      <td>WSpFjl-7g3HpyVb2mqYrVg</td>\n",
       "      <td>2012-10-17 16:13:42, 2012-10-27 17:13:32, 2012...</td>\n",
       "    </tr>\n",
       "    <tr>\n",
       "      <td>143280</td>\n",
       "      <td>oHrhz4_OBHIr5uPzER8DVA</td>\n",
       "      <td>2015-05-17 01:52:10, 2015-05-17 01:53:03, 2015...</td>\n",
       "    </tr>\n",
       "    <tr>\n",
       "      <td>173933</td>\n",
       "      <td>zZIhaE3yMCUCJpKsj0oOew</td>\n",
       "      <td>2010-12-12 22:40:01, 2011-12-30 07:16:53, 2011...</td>\n",
       "    </tr>\n",
       "    <tr>\n",
       "      <td>30767</td>\n",
       "      <td>AEpqgti925fqprXU6Yur7g</td>\n",
       "      <td>2017-01-30 23:13:47</td>\n",
       "    </tr>\n",
       "    <tr>\n",
       "      <td>134089</td>\n",
       "      <td>kwEBCIp18Xi9ETDn_WIQaA</td>\n",
       "      <td>2016-05-14 20:15:13, 2016-05-20 18:52:40, 2016...</td>\n",
       "    </tr>\n",
       "    <tr>\n",
       "      <td>154719</td>\n",
       "      <td>sWSo5pLamuuxc5QMICY-qw</td>\n",
       "      <td>2012-01-25 21:38:00, 2012-03-27 18:49:46, 2012...</td>\n",
       "    </tr>\n",
       "    <tr>\n",
       "      <td>151389</td>\n",
       "      <td>rGZtr_ZfOVfmj9aTLV11Rw</td>\n",
       "      <td>2010-07-18 23:04:07, 2010-07-30 21:23:11, 2010...</td>\n",
       "    </tr>\n",
       "    <tr>\n",
       "      <td>10703</td>\n",
       "      <td>2wvykKmGHvwF2GTUZoy9og</td>\n",
       "      <td>2019-02-05 03:42:01, 2019-02-25 02:44:23, 2019...</td>\n",
       "    </tr>\n",
       "    <tr>\n",
       "      <td>141007</td>\n",
       "      <td>nT5MAzQ2oLwAFp2A44yTCA</td>\n",
       "      <td>2017-02-04 00:49:16, 2017-04-04 19:57:50</td>\n",
       "    </tr>\n",
       "  </tbody>\n",
       "</table>\n",
       "</div>"
      ],
      "text/plain": [
       "                   business_id  \\\n",
       "1740    -cFce5TloT-REJDHDgKDbA   \n",
       "91718   WSpFjl-7g3HpyVb2mqYrVg   \n",
       "143280  oHrhz4_OBHIr5uPzER8DVA   \n",
       "173933  zZIhaE3yMCUCJpKsj0oOew   \n",
       "30767   AEpqgti925fqprXU6Yur7g   \n",
       "134089  kwEBCIp18Xi9ETDn_WIQaA   \n",
       "154719  sWSo5pLamuuxc5QMICY-qw   \n",
       "151389  rGZtr_ZfOVfmj9aTLV11Rw   \n",
       "10703   2wvykKmGHvwF2GTUZoy9og   \n",
       "141007  nT5MAzQ2oLwAFp2A44yTCA   \n",
       "\n",
       "                                                     date  \n",
       "1740    2013-12-22 18:19:55, 2014-01-09 21:17:04, 2014...  \n",
       "91718   2012-10-17 16:13:42, 2012-10-27 17:13:32, 2012...  \n",
       "143280  2015-05-17 01:52:10, 2015-05-17 01:53:03, 2015...  \n",
       "173933  2010-12-12 22:40:01, 2011-12-30 07:16:53, 2011...  \n",
       "30767                                 2017-01-30 23:13:47  \n",
       "134089  2016-05-14 20:15:13, 2016-05-20 18:52:40, 2016...  \n",
       "154719  2012-01-25 21:38:00, 2012-03-27 18:49:46, 2012...  \n",
       "151389  2010-07-18 23:04:07, 2010-07-30 21:23:11, 2010...  \n",
       "10703   2019-02-05 03:42:01, 2019-02-25 02:44:23, 2019...  \n",
       "141007           2017-02-04 00:49:16, 2017-04-04 19:57:50  "
      ]
     },
     "execution_count": 70,
     "metadata": {},
     "output_type": "execute_result"
    }
   ],
   "source": [
    "df_checkin.sample(10)"
   ]
  },
  {
   "cell_type": "code",
   "execution_count": 69,
   "metadata": {},
   "outputs": [
    {
     "data": {
      "text/plain": [
       "(175187, 2)"
      ]
     },
     "execution_count": 69,
     "metadata": {},
     "output_type": "execute_result"
    }
   ],
   "source": [
    "df_checkin.shape"
   ]
  },
  {
   "cell_type": "markdown",
   "metadata": {},
   "source": [
    "Adding a \"total\" column to see the number of checkins over time."
   ]
  },
  {
   "cell_type": "code",
   "execution_count": 72,
   "metadata": {},
   "outputs": [],
   "source": [
    "df_checkin['total'] = [len(df_checkin.iloc[i,1]) for i in range(0,175187)]"
   ]
  },
  {
   "cell_type": "code",
   "execution_count": 73,
   "metadata": {},
   "outputs": [
    {
     "data": {
      "text/html": [
       "<div>\n",
       "<style scoped>\n",
       "    .dataframe tbody tr th:only-of-type {\n",
       "        vertical-align: middle;\n",
       "    }\n",
       "\n",
       "    .dataframe tbody tr th {\n",
       "        vertical-align: top;\n",
       "    }\n",
       "\n",
       "    .dataframe thead th {\n",
       "        text-align: right;\n",
       "    }\n",
       "</style>\n",
       "<table border=\"1\" class=\"dataframe\">\n",
       "  <thead>\n",
       "    <tr style=\"text-align: right;\">\n",
       "      <th></th>\n",
       "      <th>business_id</th>\n",
       "      <th>date</th>\n",
       "      <th>total</th>\n",
       "    </tr>\n",
       "  </thead>\n",
       "  <tbody>\n",
       "    <tr>\n",
       "      <td>0</td>\n",
       "      <td>--1UhMGODdWsrMastO9DZw</td>\n",
       "      <td>2016-04-26 19:49:16, 2016-08-30 18:36:57, 2016...</td>\n",
       "      <td>145</td>\n",
       "    </tr>\n",
       "    <tr>\n",
       "      <td>1</td>\n",
       "      <td>--6MefnULPED_I942VcFNA</td>\n",
       "      <td>2011-06-04 18:22:23, 2011-07-23 23:51:33, 2012...</td>\n",
       "      <td>3967</td>\n",
       "    </tr>\n",
       "    <tr>\n",
       "      <td>2</td>\n",
       "      <td>--7zmmkVg-IMGaXbuVd0SQ</td>\n",
       "      <td>2014-12-29 19:25:50, 2015-01-17 01:49:14, 2015...</td>\n",
       "      <td>4051</td>\n",
       "    </tr>\n",
       "    <tr>\n",
       "      <td>3</td>\n",
       "      <td>--8LPVSo5i0Oo61X01sV9A</td>\n",
       "      <td>2016-07-08 16:43:30</td>\n",
       "      <td>19</td>\n",
       "    </tr>\n",
       "    <tr>\n",
       "      <td>4</td>\n",
       "      <td>--9QQLMTbFzLJ_oT-ON3Xw</td>\n",
       "      <td>2010-06-26 17:39:07, 2010-08-01 20:06:21, 2010...</td>\n",
       "      <td>796</td>\n",
       "    </tr>\n",
       "  </tbody>\n",
       "</table>\n",
       "</div>"
      ],
      "text/plain": [
       "              business_id                                               date  \\\n",
       "0  --1UhMGODdWsrMastO9DZw  2016-04-26 19:49:16, 2016-08-30 18:36:57, 2016...   \n",
       "1  --6MefnULPED_I942VcFNA  2011-06-04 18:22:23, 2011-07-23 23:51:33, 2012...   \n",
       "2  --7zmmkVg-IMGaXbuVd0SQ  2014-12-29 19:25:50, 2015-01-17 01:49:14, 2015...   \n",
       "3  --8LPVSo5i0Oo61X01sV9A                                2016-07-08 16:43:30   \n",
       "4  --9QQLMTbFzLJ_oT-ON3Xw  2010-06-26 17:39:07, 2010-08-01 20:06:21, 2010...   \n",
       "\n",
       "   total  \n",
       "0    145  \n",
       "1   3967  \n",
       "2   4051  \n",
       "3     19  \n",
       "4    796  "
      ]
     },
     "execution_count": 73,
     "metadata": {},
     "output_type": "execute_result"
    }
   ],
   "source": [
    "df_checkin.head()"
   ]
  },
  {
   "cell_type": "code",
   "execution_count": 77,
   "metadata": {},
   "outputs": [],
   "source": [
    "# Merging checkins and restaurants, so that we see the names of the restaurants.\n",
    "# We need to perform inner join on restaurant_df and df_checkin.\n",
    "restaurant_checkin_df = pd.merge(restaurant_df, df_checkin, on='business_id')"
   ]
  },
  {
   "cell_type": "code",
   "execution_count": 78,
   "metadata": {},
   "outputs": [
    {
     "data": {
      "text/html": [
       "<div>\n",
       "<style scoped>\n",
       "    .dataframe tbody tr th:only-of-type {\n",
       "        vertical-align: middle;\n",
       "    }\n",
       "\n",
       "    .dataframe tbody tr th {\n",
       "        vertical-align: top;\n",
       "    }\n",
       "\n",
       "    .dataframe thead th {\n",
       "        text-align: right;\n",
       "    }\n",
       "</style>\n",
       "<table border=\"1\" class=\"dataframe\">\n",
       "  <thead>\n",
       "    <tr style=\"text-align: right;\">\n",
       "      <th></th>\n",
       "      <th>business_id</th>\n",
       "      <th>name</th>\n",
       "      <th>address</th>\n",
       "      <th>city</th>\n",
       "      <th>state</th>\n",
       "      <th>postal_code</th>\n",
       "      <th>latitude</th>\n",
       "      <th>longitude</th>\n",
       "      <th>stars</th>\n",
       "      <th>review_count</th>\n",
       "      <th>attributes</th>\n",
       "      <th>categories</th>\n",
       "      <th>date</th>\n",
       "      <th>total</th>\n",
       "    </tr>\n",
       "  </thead>\n",
       "  <tbody>\n",
       "    <tr>\n",
       "      <td>0</td>\n",
       "      <td>pQeaRpvuhoEqudo3uymHIQ</td>\n",
       "      <td>The Empanadas House</td>\n",
       "      <td>404 E Green St</td>\n",
       "      <td>Champaign</td>\n",
       "      <td>IL</td>\n",
       "      <td>61820</td>\n",
       "      <td>40.110446</td>\n",
       "      <td>-88.233073</td>\n",
       "      <td>4.5</td>\n",
       "      <td>5</td>\n",
       "      <td>{'RestaurantsAttire': 'u'casual'', 'Restaurant...</td>\n",
       "      <td>Ethnic Food, Food Trucks, Specialty Food, Impo...</td>\n",
       "      <td>2013-02-28 19:53:31, 2013-03-14 18:01:50, 2017...</td>\n",
       "      <td>61</td>\n",
       "    </tr>\n",
       "    <tr>\n",
       "      <td>1</td>\n",
       "      <td>eBEfgOPG7pvFhb2wcG9I7w</td>\n",
       "      <td>Philthy Phillys</td>\n",
       "      <td>15480 Bayview Avenue, unit D0110</td>\n",
       "      <td>Aurora</td>\n",
       "      <td>ON</td>\n",
       "      <td>L4G 7J1</td>\n",
       "      <td>44.010962</td>\n",
       "      <td>-79.448677</td>\n",
       "      <td>4.5</td>\n",
       "      <td>4</td>\n",
       "      <td>{'RestaurantsTableService': 'False', 'Restaura...</td>\n",
       "      <td>Restaurants, Cheesesteaks, Poutineries</td>\n",
       "      <td>2019-01-04 01:13:15</td>\n",
       "      <td>19</td>\n",
       "    </tr>\n",
       "    <tr>\n",
       "      <td>2</td>\n",
       "      <td>lu7vtrp_bE9PnxWfA8g4Pg</td>\n",
       "      <td>Banzai Sushi</td>\n",
       "      <td>300 John Street</td>\n",
       "      <td>Thornhill</td>\n",
       "      <td>ON</td>\n",
       "      <td>L3T 5W4</td>\n",
       "      <td>43.820492</td>\n",
       "      <td>-79.398466</td>\n",
       "      <td>4.5</td>\n",
       "      <td>7</td>\n",
       "      <td>{'GoodForKids': 'True', 'RestaurantsTakeOut': ...</td>\n",
       "      <td>Japanese, Fast Food, Food Court, Restaurants</td>\n",
       "      <td>2014-11-28 18:55:44, 2016-06-12 01:00:30, 2016...</td>\n",
       "      <td>166</td>\n",
       "    </tr>\n",
       "    <tr>\n",
       "      <td>3</td>\n",
       "      <td>9sRGfSVEfLhN_km60YruTA</td>\n",
       "      <td>Apadana Restaurant</td>\n",
       "      <td>13071 Yonge Street</td>\n",
       "      <td>Richmond Hill</td>\n",
       "      <td>ON</td>\n",
       "      <td>L4E 1A5</td>\n",
       "      <td>43.947011</td>\n",
       "      <td>-79.454862</td>\n",
       "      <td>3.0</td>\n",
       "      <td>3</td>\n",
       "      <td>{'Ambience': '{'touristy': False, 'hipster': F...</td>\n",
       "      <td>Persian/Iranian, Turkish, Middle Eastern, Rest...</td>\n",
       "      <td>2019-03-24 21:23:22, 2019-06-15 22:28:01</td>\n",
       "      <td>40</td>\n",
       "    </tr>\n",
       "    <tr>\n",
       "      <td>4</td>\n",
       "      <td>vjTVxnsQEZ34XjYNS-XUpA</td>\n",
       "      <td>Wetzel's Pretzels</td>\n",
       "      <td>4550 East Cactus Rd, #KSFC-4</td>\n",
       "      <td>Phoenix</td>\n",
       "      <td>AZ</td>\n",
       "      <td>85032</td>\n",
       "      <td>33.602822</td>\n",
       "      <td>-111.983533</td>\n",
       "      <td>4.0</td>\n",
       "      <td>10</td>\n",
       "      <td>{'GoodForKids': 'True', 'RestaurantsTakeOut': ...</td>\n",
       "      <td>Food, Pretzels, Bakeries, Fast Food, Restaurants</td>\n",
       "      <td>2010-07-06 21:38:52, 2010-08-29 17:19:51, 2012...</td>\n",
       "      <td>502</td>\n",
       "    </tr>\n",
       "    <tr>\n",
       "      <td>5</td>\n",
       "      <td>98hyK2QEUeI8v2y0AghfZA</td>\n",
       "      <td>Pho Lee's Vietnamese Restaurant</td>\n",
       "      <td>1541 E 38th St, Ste 101</td>\n",
       "      <td>Cleveland</td>\n",
       "      <td>OH</td>\n",
       "      <td>44114</td>\n",
       "      <td>41.512155</td>\n",
       "      <td>-81.663332</td>\n",
       "      <td>4.5</td>\n",
       "      <td>23</td>\n",
       "      <td>{'BusinessParking': 'None', 'Ambience': '{'tou...</td>\n",
       "      <td>Restaurants, Vietnamese, Soup</td>\n",
       "      <td>2019-08-18 21:17:31, 2019-08-31 17:06:17, 2019...</td>\n",
       "      <td>271</td>\n",
       "    </tr>\n",
       "    <tr>\n",
       "      <td>6</td>\n",
       "      <td>LoRef3ChgZKbxUio-sHgQg</td>\n",
       "      <td>Amir</td>\n",
       "      <td>5252 Rue Jean Talon O</td>\n",
       "      <td>Montréal</td>\n",
       "      <td>QC</td>\n",
       "      <td>H4P 2A7</td>\n",
       "      <td>45.494870</td>\n",
       "      <td>-73.651904</td>\n",
       "      <td>3.0</td>\n",
       "      <td>18</td>\n",
       "      <td>{'RestaurantsAttire': 'u'casual'', 'Restaurant...</td>\n",
       "      <td>Restaurants, Lebanese, Middle Eastern</td>\n",
       "      <td>2013-05-22 16:28:19, 2014-06-10 22:04:37, 2014...</td>\n",
       "      <td>208</td>\n",
       "    </tr>\n",
       "    <tr>\n",
       "      <td>7</td>\n",
       "      <td>tLpkSwdtqqoXwU0JAGnApw</td>\n",
       "      <td>Wendy's</td>\n",
       "      <td>4602 Northfield Road</td>\n",
       "      <td>Cleveland</td>\n",
       "      <td>OH</td>\n",
       "      <td>44128</td>\n",
       "      <td>41.434614</td>\n",
       "      <td>-81.527026</td>\n",
       "      <td>3.5</td>\n",
       "      <td>7</td>\n",
       "      <td>{'RestaurantsDelivery': 'False', 'BusinessAcce...</td>\n",
       "      <td>Restaurants, Fast Food, Burgers</td>\n",
       "      <td>2011-08-18 23:18:26, 2011-09-20 16:38:54, 2011...</td>\n",
       "      <td>544</td>\n",
       "    </tr>\n",
       "    <tr>\n",
       "      <td>8</td>\n",
       "      <td>lK-wuiq8b1TuU7bfbQZgsg</td>\n",
       "      <td>Hingetown</td>\n",
       "      <td></td>\n",
       "      <td>Cleveland</td>\n",
       "      <td>OH</td>\n",
       "      <td>44113</td>\n",
       "      <td>41.489343</td>\n",
       "      <td>-81.711029</td>\n",
       "      <td>3.0</td>\n",
       "      <td>4</td>\n",
       "      <td>{'Alcohol': 'u'none'', 'GoodForKids': 'True', ...</td>\n",
       "      <td>Shopping Centers, Food, Coffee &amp; Tea, Cafes, M...</td>\n",
       "      <td>2014-11-07 15:13:55, 2015-01-21 12:26:01, 2015...</td>\n",
       "      <td>1783</td>\n",
       "    </tr>\n",
       "    <tr>\n",
       "      <td>9</td>\n",
       "      <td>LAoSegVNU4wx4GTA8reB6A</td>\n",
       "      <td>Tzikii Food Truck</td>\n",
       "      <td>7510 S Priest Dr</td>\n",
       "      <td>Tempe</td>\n",
       "      <td>AZ</td>\n",
       "      <td>85283</td>\n",
       "      <td>33.350104</td>\n",
       "      <td>-111.963660</td>\n",
       "      <td>3.0</td>\n",
       "      <td>4</td>\n",
       "      <td>{'RestaurantsTakeOut': 'False', 'WheelchairAcc...</td>\n",
       "      <td>Restaurants, Egyptian, Food Trucks, Food, Midd...</td>\n",
       "      <td>2018-05-24 02:18:53</td>\n",
       "      <td>19</td>\n",
       "    </tr>\n",
       "  </tbody>\n",
       "</table>\n",
       "</div>"
      ],
      "text/plain": [
       "              business_id                             name  \\\n",
       "0  pQeaRpvuhoEqudo3uymHIQ              The Empanadas House   \n",
       "1  eBEfgOPG7pvFhb2wcG9I7w                  Philthy Phillys   \n",
       "2  lu7vtrp_bE9PnxWfA8g4Pg                     Banzai Sushi   \n",
       "3  9sRGfSVEfLhN_km60YruTA               Apadana Restaurant   \n",
       "4  vjTVxnsQEZ34XjYNS-XUpA                Wetzel's Pretzels   \n",
       "5  98hyK2QEUeI8v2y0AghfZA  Pho Lee's Vietnamese Restaurant   \n",
       "6  LoRef3ChgZKbxUio-sHgQg                             Amir   \n",
       "7  tLpkSwdtqqoXwU0JAGnApw                          Wendy's   \n",
       "8  lK-wuiq8b1TuU7bfbQZgsg                        Hingetown   \n",
       "9  LAoSegVNU4wx4GTA8reB6A                Tzikii Food Truck   \n",
       "\n",
       "                            address           city state postal_code  \\\n",
       "0                    404 E Green St      Champaign    IL       61820   \n",
       "1  15480 Bayview Avenue, unit D0110         Aurora    ON     L4G 7J1   \n",
       "2                   300 John Street      Thornhill    ON     L3T 5W4   \n",
       "3                13071 Yonge Street  Richmond Hill    ON     L4E 1A5   \n",
       "4      4550 East Cactus Rd, #KSFC-4        Phoenix    AZ       85032   \n",
       "5           1541 E 38th St, Ste 101      Cleveland    OH       44114   \n",
       "6             5252 Rue Jean Talon O       Montréal    QC     H4P 2A7   \n",
       "7              4602 Northfield Road      Cleveland    OH       44128   \n",
       "8                                        Cleveland    OH       44113   \n",
       "9                  7510 S Priest Dr          Tempe    AZ       85283   \n",
       "\n",
       "    latitude   longitude  stars  review_count  \\\n",
       "0  40.110446  -88.233073    4.5             5   \n",
       "1  44.010962  -79.448677    4.5             4   \n",
       "2  43.820492  -79.398466    4.5             7   \n",
       "3  43.947011  -79.454862    3.0             3   \n",
       "4  33.602822 -111.983533    4.0            10   \n",
       "5  41.512155  -81.663332    4.5            23   \n",
       "6  45.494870  -73.651904    3.0            18   \n",
       "7  41.434614  -81.527026    3.5             7   \n",
       "8  41.489343  -81.711029    3.0             4   \n",
       "9  33.350104 -111.963660    3.0             4   \n",
       "\n",
       "                                          attributes  \\\n",
       "0  {'RestaurantsAttire': 'u'casual'', 'Restaurant...   \n",
       "1  {'RestaurantsTableService': 'False', 'Restaura...   \n",
       "2  {'GoodForKids': 'True', 'RestaurantsTakeOut': ...   \n",
       "3  {'Ambience': '{'touristy': False, 'hipster': F...   \n",
       "4  {'GoodForKids': 'True', 'RestaurantsTakeOut': ...   \n",
       "5  {'BusinessParking': 'None', 'Ambience': '{'tou...   \n",
       "6  {'RestaurantsAttire': 'u'casual'', 'Restaurant...   \n",
       "7  {'RestaurantsDelivery': 'False', 'BusinessAcce...   \n",
       "8  {'Alcohol': 'u'none'', 'GoodForKids': 'True', ...   \n",
       "9  {'RestaurantsTakeOut': 'False', 'WheelchairAcc...   \n",
       "\n",
       "                                          categories  \\\n",
       "0  Ethnic Food, Food Trucks, Specialty Food, Impo...   \n",
       "1             Restaurants, Cheesesteaks, Poutineries   \n",
       "2       Japanese, Fast Food, Food Court, Restaurants   \n",
       "3  Persian/Iranian, Turkish, Middle Eastern, Rest...   \n",
       "4   Food, Pretzels, Bakeries, Fast Food, Restaurants   \n",
       "5                      Restaurants, Vietnamese, Soup   \n",
       "6              Restaurants, Lebanese, Middle Eastern   \n",
       "7                    Restaurants, Fast Food, Burgers   \n",
       "8  Shopping Centers, Food, Coffee & Tea, Cafes, M...   \n",
       "9  Restaurants, Egyptian, Food Trucks, Food, Midd...   \n",
       "\n",
       "                                                date  total  \n",
       "0  2013-02-28 19:53:31, 2013-03-14 18:01:50, 2017...     61  \n",
       "1                                2019-01-04 01:13:15     19  \n",
       "2  2014-11-28 18:55:44, 2016-06-12 01:00:30, 2016...    166  \n",
       "3           2019-03-24 21:23:22, 2019-06-15 22:28:01     40  \n",
       "4  2010-07-06 21:38:52, 2010-08-29 17:19:51, 2012...    502  \n",
       "5  2019-08-18 21:17:31, 2019-08-31 17:06:17, 2019...    271  \n",
       "6  2013-05-22 16:28:19, 2014-06-10 22:04:37, 2014...    208  \n",
       "7  2011-08-18 23:18:26, 2011-09-20 16:38:54, 2011...    544  \n",
       "8  2014-11-07 15:13:55, 2015-01-21 12:26:01, 2015...   1783  \n",
       "9                                2018-05-24 02:18:53     19  "
      ]
     },
     "execution_count": 78,
     "metadata": {},
     "output_type": "execute_result"
    }
   ],
   "source": [
    "restaurant_checkin_df.head(10)"
   ]
  },
  {
   "cell_type": "code",
   "execution_count": 79,
   "metadata": {},
   "outputs": [
    {
     "data": {
      "text/plain": [
       "(43039, 14)"
      ]
     },
     "execution_count": 79,
     "metadata": {},
     "output_type": "execute_result"
    }
   ],
   "source": [
    "restaurant_checkin_df.shape"
   ]
  },
  {
   "cell_type": "code",
   "execution_count": 89,
   "metadata": {},
   "outputs": [],
   "source": [
    "restaurant_checkin_df.to_csv('restaurant_checkin.csv')"
   ]
  },
  {
   "cell_type": "markdown",
   "metadata": {},
   "source": [
    "### 5) Tips"
   ]
  },
  {
   "cell_type": "code",
   "execution_count": 9,
   "metadata": {},
   "outputs": [],
   "source": [
    "tip_json_path = 'yelp_dataset/yelp_academic_dataset_tip.json'\n",
    "df_tip = pd.read_json(tip_json_path, lines=True)"
   ]
  },
  {
   "cell_type": "code",
   "execution_count": 10,
   "metadata": {},
   "outputs": [
    {
     "data": {
      "text/html": [
       "<div>\n",
       "<style scoped>\n",
       "    .dataframe tbody tr th:only-of-type {\n",
       "        vertical-align: middle;\n",
       "    }\n",
       "\n",
       "    .dataframe tbody tr th {\n",
       "        vertical-align: top;\n",
       "    }\n",
       "\n",
       "    .dataframe thead th {\n",
       "        text-align: right;\n",
       "    }\n",
       "</style>\n",
       "<table border=\"1\" class=\"dataframe\">\n",
       "  <thead>\n",
       "    <tr style=\"text-align: right;\">\n",
       "      <th></th>\n",
       "      <th>user_id</th>\n",
       "      <th>business_id</th>\n",
       "      <th>text</th>\n",
       "      <th>date</th>\n",
       "      <th>compliment_count</th>\n",
       "    </tr>\n",
       "  </thead>\n",
       "  <tbody>\n",
       "    <tr>\n",
       "      <td>1190328</td>\n",
       "      <td>nwQ_nIxVWYByTTqXiCQLAA</td>\n",
       "      <td>qihqxBCgXOPf2c-QxaFibA</td>\n",
       "      <td>Great service. \\nGreat atmosphere.</td>\n",
       "      <td>2014-10-08 23:00:08</td>\n",
       "      <td>0</td>\n",
       "    </tr>\n",
       "    <tr>\n",
       "      <td>27680</td>\n",
       "      <td>HO3kgFkq7AMmkcE7QvUGLQ</td>\n",
       "      <td>blrsVPvhSZ2RPGnNuDfaxA</td>\n",
       "      <td>Open till 10pm!</td>\n",
       "      <td>2012-04-28 01:29:07</td>\n",
       "      <td>0</td>\n",
       "    </tr>\n",
       "    <tr>\n",
       "      <td>650835</td>\n",
       "      <td>Tx9YmzkGh2F-VT_c_Xcm2w</td>\n",
       "      <td>ezuzSOrWu3KhFKTtVAMWlQ</td>\n",
       "      <td>Iced americano is sweet!</td>\n",
       "      <td>2010-07-22 18:09:36</td>\n",
       "      <td>0</td>\n",
       "    </tr>\n",
       "    <tr>\n",
       "      <td>247579</td>\n",
       "      <td>SfY0jEFqBkrqq9bVi6P31Q</td>\n",
       "      <td>mh9_KtSt_ebl7vTKiy2vQw</td>\n",
       "      <td>If you don't have a 4x4, park at Esselmont Par...</td>\n",
       "      <td>2015-01-01 16:45:13</td>\n",
       "      <td>0</td>\n",
       "    </tr>\n",
       "    <tr>\n",
       "      <td>483191</td>\n",
       "      <td>FeaOjUwDzX-AbDMcJk6lEg</td>\n",
       "      <td>stbX9rtRIpDF-VymOwHJ8w</td>\n",
       "      <td>Hoo-kaka</td>\n",
       "      <td>2010-11-07 03:59:01</td>\n",
       "      <td>0</td>\n",
       "    </tr>\n",
       "    <tr>\n",
       "      <td>517697</td>\n",
       "      <td>qmuCid52Y-SaJS_6v2CkNg</td>\n",
       "      <td>DlFKsdGY7-7c4u7_A-W99Q</td>\n",
       "      <td>Very drinkable latte but rather pricey</td>\n",
       "      <td>2015-12-11 19:04:30</td>\n",
       "      <td>0</td>\n",
       "    </tr>\n",
       "  </tbody>\n",
       "</table>\n",
       "</div>"
      ],
      "text/plain": [
       "                        user_id             business_id  \\\n",
       "1190328  nwQ_nIxVWYByTTqXiCQLAA  qihqxBCgXOPf2c-QxaFibA   \n",
       "27680    HO3kgFkq7AMmkcE7QvUGLQ  blrsVPvhSZ2RPGnNuDfaxA   \n",
       "650835   Tx9YmzkGh2F-VT_c_Xcm2w  ezuzSOrWu3KhFKTtVAMWlQ   \n",
       "247579   SfY0jEFqBkrqq9bVi6P31Q  mh9_KtSt_ebl7vTKiy2vQw   \n",
       "483191   FeaOjUwDzX-AbDMcJk6lEg  stbX9rtRIpDF-VymOwHJ8w   \n",
       "517697   qmuCid52Y-SaJS_6v2CkNg  DlFKsdGY7-7c4u7_A-W99Q   \n",
       "\n",
       "                                                      text  \\\n",
       "1190328                 Great service. \\nGreat atmosphere.   \n",
       "27680                                      Open till 10pm!   \n",
       "650835                            Iced americano is sweet!   \n",
       "247579   If you don't have a 4x4, park at Esselmont Par...   \n",
       "483191                                            Hoo-kaka   \n",
       "517697              Very drinkable latte but rather pricey   \n",
       "\n",
       "                       date  compliment_count  \n",
       "1190328 2014-10-08 23:00:08                 0  \n",
       "27680   2012-04-28 01:29:07                 0  \n",
       "650835  2010-07-22 18:09:36                 0  \n",
       "247579  2015-01-01 16:45:13                 0  \n",
       "483191  2010-11-07 03:59:01                 0  \n",
       "517697  2015-12-11 19:04:30                 0  "
      ]
     },
     "execution_count": 10,
     "metadata": {},
     "output_type": "execute_result"
    }
   ],
   "source": [
    "df_tip.sample(6)"
   ]
  },
  {
   "cell_type": "code",
   "execution_count": 11,
   "metadata": {},
   "outputs": [
    {
     "data": {
      "text/plain": [
       "(1320761, 5)"
      ]
     },
     "execution_count": 11,
     "metadata": {},
     "output_type": "execute_result"
    }
   ],
   "source": [
    "df_tip.shape"
   ]
  },
  {
   "cell_type": "markdown",
   "metadata": {},
   "source": [
    "I didn't add up using the user tips for this project either, as I'm saving it for the NLP analysis."
   ]
  },
  {
   "cell_type": "markdown",
   "metadata": {},
   "source": [
    "**Glossary of df names:** <br>\n",
    "* **df_business:** yelp's business.json. Contains business_id, name, geo info, stars, review count, attributes, categories and hours. Also exists as *'business_yelp.csv'*.\n",
    "* **restaurant_df:** created by **me**, filtered for restaurants that are open. Contains same columns as business, minus the hours. Also exists in csv: *'restaurant_bus_yelp.csv'*.\n",
    "* **user_df:** yelp's user.json. Not yet filtered for restaurants! Nearly 2 million users listed, so it will have to be merged with other df in order to distinguish restaurants. Also exists as *'user_yelp.csv'*.\n",
    "* **review.json:** currently *work in progress*. Might not use for this project. It's nearly 6GB. Definitely needs to be reduced and normalized.\n",
    "* **df_checkin:** yelp's checkin.json. With \"total\" column added.\n",
    "* **restaurant_checkin_df:** Created by **me**, restaurant_df + df_checkin, merged on business_id. Also exists as *'restaurant_checkin.csv'*.\n",
    "* **df_tip:** yelp's tip.json. Contains user_id, business_id, text of the tip, date\tand compliment_count."
   ]
  },
  {
   "cell_type": "markdown",
   "metadata": {},
   "source": [
    "Going to merge df_user and tip_df on user_id:"
   ]
  },
  {
   "cell_type": "markdown",
   "metadata": {},
   "source": [
    "* Code below exists mostly for the sake of testing out the read_csv function and make sure everything looks the way it should. **No particularly useful merges will be done below this line.** Merges performed on tip and restaurant data caused a lot of duplicate rows, because each restaurant has multiple tips from multiple users listed."
   ]
  },
  {
   "cell_type": "code",
   "execution_count": 23,
   "metadata": {},
   "outputs": [],
   "source": [
    "df_user = pd.read_csv(\"yelp_dataset/user_yelp.csv\")"
   ]
  },
  {
   "cell_type": "code",
   "execution_count": 24,
   "metadata": {},
   "outputs": [
    {
     "data": {
      "text/html": [
       "<div>\n",
       "<style scoped>\n",
       "    .dataframe tbody tr th:only-of-type {\n",
       "        vertical-align: middle;\n",
       "    }\n",
       "\n",
       "    .dataframe tbody tr th {\n",
       "        vertical-align: top;\n",
       "    }\n",
       "\n",
       "    .dataframe thead th {\n",
       "        text-align: right;\n",
       "    }\n",
       "</style>\n",
       "<table border=\"1\" class=\"dataframe\">\n",
       "  <thead>\n",
       "    <tr style=\"text-align: right;\">\n",
       "      <th></th>\n",
       "      <th>Unnamed: 0</th>\n",
       "      <th>user_id</th>\n",
       "      <th>name</th>\n",
       "      <th>review_count</th>\n",
       "      <th>yelping_since</th>\n",
       "      <th>useful</th>\n",
       "      <th>funny</th>\n",
       "      <th>cool</th>\n",
       "      <th>elite</th>\n",
       "      <th>friends</th>\n",
       "      <th>...</th>\n",
       "      <th>compliment_more</th>\n",
       "      <th>compliment_profile</th>\n",
       "      <th>compliment_cute</th>\n",
       "      <th>compliment_list</th>\n",
       "      <th>compliment_note</th>\n",
       "      <th>compliment_plain</th>\n",
       "      <th>compliment_cool</th>\n",
       "      <th>compliment_funny</th>\n",
       "      <th>compliment_writer</th>\n",
       "      <th>compliment_photos</th>\n",
       "    </tr>\n",
       "  </thead>\n",
       "  <tbody>\n",
       "    <tr>\n",
       "      <td>0</td>\n",
       "      <td>0</td>\n",
       "      <td>ntlvfPzc8eglqvk92iDIAw</td>\n",
       "      <td>Rafael</td>\n",
       "      <td>553</td>\n",
       "      <td>2007-07-06 03:27:11</td>\n",
       "      <td>628</td>\n",
       "      <td>225</td>\n",
       "      <td>227</td>\n",
       "      <td>NaN</td>\n",
       "      <td>oeMvJh94PiGQnx_6GlndPQ, wm1z1PaJKvHgSDRKfwhfDg...</td>\n",
       "      <td>...</td>\n",
       "      <td>2</td>\n",
       "      <td>1</td>\n",
       "      <td>0</td>\n",
       "      <td>1</td>\n",
       "      <td>11</td>\n",
       "      <td>15</td>\n",
       "      <td>22</td>\n",
       "      <td>22</td>\n",
       "      <td>10</td>\n",
       "      <td>0</td>\n",
       "    </tr>\n",
       "    <tr>\n",
       "      <td>1</td>\n",
       "      <td>1</td>\n",
       "      <td>FOBRPlBHa3WPHFB5qYDlVg</td>\n",
       "      <td>Michelle</td>\n",
       "      <td>564</td>\n",
       "      <td>2008-04-28 01:29:25</td>\n",
       "      <td>790</td>\n",
       "      <td>316</td>\n",
       "      <td>400</td>\n",
       "      <td>2008,2009,2010,2011,2012,2013</td>\n",
       "      <td>ly7EnE8leJmyqyePVYFlug, pRlR63iDytsnnniPb3AOug...</td>\n",
       "      <td>...</td>\n",
       "      <td>4</td>\n",
       "      <td>5</td>\n",
       "      <td>2</td>\n",
       "      <td>1</td>\n",
       "      <td>33</td>\n",
       "      <td>37</td>\n",
       "      <td>63</td>\n",
       "      <td>63</td>\n",
       "      <td>21</td>\n",
       "      <td>5</td>\n",
       "    </tr>\n",
       "    <tr>\n",
       "      <td>2</td>\n",
       "      <td>2</td>\n",
       "      <td>zZUnPeh2hEp0WydbAZEOOg</td>\n",
       "      <td>Martin</td>\n",
       "      <td>60</td>\n",
       "      <td>2008-08-28 23:40:05</td>\n",
       "      <td>151</td>\n",
       "      <td>125</td>\n",
       "      <td>103</td>\n",
       "      <td>2010</td>\n",
       "      <td>Uwlk0txjQBPw_JhHsQnyeg, Ybxr1tSCkv3lYA0I1qmnPQ...</td>\n",
       "      <td>...</td>\n",
       "      <td>6</td>\n",
       "      <td>0</td>\n",
       "      <td>1</td>\n",
       "      <td>0</td>\n",
       "      <td>3</td>\n",
       "      <td>7</td>\n",
       "      <td>17</td>\n",
       "      <td>17</td>\n",
       "      <td>4</td>\n",
       "      <td>1</td>\n",
       "    </tr>\n",
       "    <tr>\n",
       "      <td>3</td>\n",
       "      <td>3</td>\n",
       "      <td>QaELAmRcDc5TfJEylaaP8g</td>\n",
       "      <td>John</td>\n",
       "      <td>206</td>\n",
       "      <td>2008-09-20 00:08:14</td>\n",
       "      <td>233</td>\n",
       "      <td>160</td>\n",
       "      <td>84</td>\n",
       "      <td>2009</td>\n",
       "      <td>iog3Nyg1i4jeumiTVG_BSA, M92xWY2Vr9w0xoH8bPplfQ...</td>\n",
       "      <td>...</td>\n",
       "      <td>1</td>\n",
       "      <td>0</td>\n",
       "      <td>0</td>\n",
       "      <td>0</td>\n",
       "      <td>7</td>\n",
       "      <td>14</td>\n",
       "      <td>7</td>\n",
       "      <td>7</td>\n",
       "      <td>2</td>\n",
       "      <td>0</td>\n",
       "    </tr>\n",
       "    <tr>\n",
       "      <td>4</td>\n",
       "      <td>4</td>\n",
       "      <td>xvu8G900tezTzbbfqmTKvA</td>\n",
       "      <td>Anne</td>\n",
       "      <td>485</td>\n",
       "      <td>2008-08-09 00:30:27</td>\n",
       "      <td>1265</td>\n",
       "      <td>400</td>\n",
       "      <td>512</td>\n",
       "      <td>2009,2010,2011,2012,2014,2015,2016,2017,2018</td>\n",
       "      <td>3W3ZMSthojCUirKEqAwGNw, eTIbuu23j9tOgmIa9POyLQ...</td>\n",
       "      <td>...</td>\n",
       "      <td>9</td>\n",
       "      <td>2</td>\n",
       "      <td>1</td>\n",
       "      <td>1</td>\n",
       "      <td>22</td>\n",
       "      <td>28</td>\n",
       "      <td>31</td>\n",
       "      <td>31</td>\n",
       "      <td>19</td>\n",
       "      <td>31</td>\n",
       "    </tr>\n",
       "  </tbody>\n",
       "</table>\n",
       "<p>5 rows × 23 columns</p>\n",
       "</div>"
      ],
      "text/plain": [
       "   Unnamed: 0                 user_id      name  review_count  \\\n",
       "0           0  ntlvfPzc8eglqvk92iDIAw    Rafael           553   \n",
       "1           1  FOBRPlBHa3WPHFB5qYDlVg  Michelle           564   \n",
       "2           2  zZUnPeh2hEp0WydbAZEOOg    Martin            60   \n",
       "3           3  QaELAmRcDc5TfJEylaaP8g      John           206   \n",
       "4           4  xvu8G900tezTzbbfqmTKvA      Anne           485   \n",
       "\n",
       "         yelping_since  useful  funny  cool  \\\n",
       "0  2007-07-06 03:27:11     628    225   227   \n",
       "1  2008-04-28 01:29:25     790    316   400   \n",
       "2  2008-08-28 23:40:05     151    125   103   \n",
       "3  2008-09-20 00:08:14     233    160    84   \n",
       "4  2008-08-09 00:30:27    1265    400   512   \n",
       "\n",
       "                                          elite  \\\n",
       "0                                           NaN   \n",
       "1                 2008,2009,2010,2011,2012,2013   \n",
       "2                                          2010   \n",
       "3                                          2009   \n",
       "4  2009,2010,2011,2012,2014,2015,2016,2017,2018   \n",
       "\n",
       "                                             friends  ...  compliment_more  \\\n",
       "0  oeMvJh94PiGQnx_6GlndPQ, wm1z1PaJKvHgSDRKfwhfDg...  ...                2   \n",
       "1  ly7EnE8leJmyqyePVYFlug, pRlR63iDytsnnniPb3AOug...  ...                4   \n",
       "2  Uwlk0txjQBPw_JhHsQnyeg, Ybxr1tSCkv3lYA0I1qmnPQ...  ...                6   \n",
       "3  iog3Nyg1i4jeumiTVG_BSA, M92xWY2Vr9w0xoH8bPplfQ...  ...                1   \n",
       "4  3W3ZMSthojCUirKEqAwGNw, eTIbuu23j9tOgmIa9POyLQ...  ...                9   \n",
       "\n",
       "   compliment_profile  compliment_cute  compliment_list  compliment_note  \\\n",
       "0                   1                0                1               11   \n",
       "1                   5                2                1               33   \n",
       "2                   0                1                0                3   \n",
       "3                   0                0                0                7   \n",
       "4                   2                1                1               22   \n",
       "\n",
       "   compliment_plain  compliment_cool  compliment_funny  compliment_writer  \\\n",
       "0                15               22                22                 10   \n",
       "1                37               63                63                 21   \n",
       "2                 7               17                17                  4   \n",
       "3                14                7                 7                  2   \n",
       "4                28               31                31                 19   \n",
       "\n",
       "   compliment_photos  \n",
       "0                  0  \n",
       "1                  5  \n",
       "2                  1  \n",
       "3                  0  \n",
       "4                 31  \n",
       "\n",
       "[5 rows x 23 columns]"
      ]
     },
     "execution_count": 24,
     "metadata": {},
     "output_type": "execute_result"
    }
   ],
   "source": [
    "df_user.head()"
   ]
  },
  {
   "cell_type": "code",
   "execution_count": 25,
   "metadata": {},
   "outputs": [],
   "source": [
    "columns_to_drop = ['Unnamed: 0', 'friends', 'compliment_more', 'compliment_profile', 'compliment_cute', \\\n",
    "                  'compliment_list', 'compliment_note', 'compliment_plain', 'compliment_cool', 'compliment_funny',\\\n",
    "                   'compliment_writer', 'compliment_photos']\n",
    "df_user = df_user.drop(columns_to_drop, axis = 1)\n"
   ]
  },
  {
   "cell_type": "code",
   "execution_count": 26,
   "metadata": {},
   "outputs": [
    {
     "data": {
      "text/html": [
       "<div>\n",
       "<style scoped>\n",
       "    .dataframe tbody tr th:only-of-type {\n",
       "        vertical-align: middle;\n",
       "    }\n",
       "\n",
       "    .dataframe tbody tr th {\n",
       "        vertical-align: top;\n",
       "    }\n",
       "\n",
       "    .dataframe thead th {\n",
       "        text-align: right;\n",
       "    }\n",
       "</style>\n",
       "<table border=\"1\" class=\"dataframe\">\n",
       "  <thead>\n",
       "    <tr style=\"text-align: right;\">\n",
       "      <th></th>\n",
       "      <th>user_id</th>\n",
       "      <th>name</th>\n",
       "      <th>review_count</th>\n",
       "      <th>yelping_since</th>\n",
       "      <th>useful</th>\n",
       "      <th>funny</th>\n",
       "      <th>cool</th>\n",
       "      <th>elite</th>\n",
       "      <th>fans</th>\n",
       "      <th>average_stars</th>\n",
       "      <th>compliment_hot</th>\n",
       "    </tr>\n",
       "  </thead>\n",
       "  <tbody>\n",
       "    <tr>\n",
       "      <td>0</td>\n",
       "      <td>ntlvfPzc8eglqvk92iDIAw</td>\n",
       "      <td>Rafael</td>\n",
       "      <td>553</td>\n",
       "      <td>2007-07-06 03:27:11</td>\n",
       "      <td>628</td>\n",
       "      <td>225</td>\n",
       "      <td>227</td>\n",
       "      <td>NaN</td>\n",
       "      <td>14</td>\n",
       "      <td>3.57</td>\n",
       "      <td>3</td>\n",
       "    </tr>\n",
       "    <tr>\n",
       "      <td>1</td>\n",
       "      <td>FOBRPlBHa3WPHFB5qYDlVg</td>\n",
       "      <td>Michelle</td>\n",
       "      <td>564</td>\n",
       "      <td>2008-04-28 01:29:25</td>\n",
       "      <td>790</td>\n",
       "      <td>316</td>\n",
       "      <td>400</td>\n",
       "      <td>2008,2009,2010,2011,2012,2013</td>\n",
       "      <td>27</td>\n",
       "      <td>3.84</td>\n",
       "      <td>36</td>\n",
       "    </tr>\n",
       "    <tr>\n",
       "      <td>2</td>\n",
       "      <td>zZUnPeh2hEp0WydbAZEOOg</td>\n",
       "      <td>Martin</td>\n",
       "      <td>60</td>\n",
       "      <td>2008-08-28 23:40:05</td>\n",
       "      <td>151</td>\n",
       "      <td>125</td>\n",
       "      <td>103</td>\n",
       "      <td>2010</td>\n",
       "      <td>5</td>\n",
       "      <td>3.44</td>\n",
       "      <td>9</td>\n",
       "    </tr>\n",
       "    <tr>\n",
       "      <td>3</td>\n",
       "      <td>QaELAmRcDc5TfJEylaaP8g</td>\n",
       "      <td>John</td>\n",
       "      <td>206</td>\n",
       "      <td>2008-09-20 00:08:14</td>\n",
       "      <td>233</td>\n",
       "      <td>160</td>\n",
       "      <td>84</td>\n",
       "      <td>2009</td>\n",
       "      <td>6</td>\n",
       "      <td>3.08</td>\n",
       "      <td>2</td>\n",
       "    </tr>\n",
       "    <tr>\n",
       "      <td>4</td>\n",
       "      <td>xvu8G900tezTzbbfqmTKvA</td>\n",
       "      <td>Anne</td>\n",
       "      <td>485</td>\n",
       "      <td>2008-08-09 00:30:27</td>\n",
       "      <td>1265</td>\n",
       "      <td>400</td>\n",
       "      <td>512</td>\n",
       "      <td>2009,2010,2011,2012,2014,2015,2016,2017,2018</td>\n",
       "      <td>78</td>\n",
       "      <td>4.37</td>\n",
       "      <td>8</td>\n",
       "    </tr>\n",
       "  </tbody>\n",
       "</table>\n",
       "</div>"
      ],
      "text/plain": [
       "                  user_id      name  review_count        yelping_since  \\\n",
       "0  ntlvfPzc8eglqvk92iDIAw    Rafael           553  2007-07-06 03:27:11   \n",
       "1  FOBRPlBHa3WPHFB5qYDlVg  Michelle           564  2008-04-28 01:29:25   \n",
       "2  zZUnPeh2hEp0WydbAZEOOg    Martin            60  2008-08-28 23:40:05   \n",
       "3  QaELAmRcDc5TfJEylaaP8g      John           206  2008-09-20 00:08:14   \n",
       "4  xvu8G900tezTzbbfqmTKvA      Anne           485  2008-08-09 00:30:27   \n",
       "\n",
       "   useful  funny  cool                                         elite  fans  \\\n",
       "0     628    225   227                                           NaN    14   \n",
       "1     790    316   400                 2008,2009,2010,2011,2012,2013    27   \n",
       "2     151    125   103                                          2010     5   \n",
       "3     233    160    84                                          2009     6   \n",
       "4    1265    400   512  2009,2010,2011,2012,2014,2015,2016,2017,2018    78   \n",
       "\n",
       "   average_stars  compliment_hot  \n",
       "0           3.57               3  \n",
       "1           3.84              36  \n",
       "2           3.44               9  \n",
       "3           3.08               2  \n",
       "4           4.37               8  "
      ]
     },
     "execution_count": 26,
     "metadata": {},
     "output_type": "execute_result"
    }
   ],
   "source": [
    "df_user.head()"
   ]
  },
  {
   "cell_type": "code",
   "execution_count": 28,
   "metadata": {},
   "outputs": [
    {
     "data": {
      "text/plain": [
       "(1968703, 11)"
      ]
     },
     "execution_count": 28,
     "metadata": {},
     "output_type": "execute_result"
    }
   ],
   "source": [
    "df_user.shape"
   ]
  },
  {
   "cell_type": "markdown",
   "metadata": {},
   "source": [
    "What can I merge in order to link the users with restaurant businesses, in order to reduce the df_user and df_tip to just restaurant businesses? So far we have nearly 2 million users and 1.3 million tips written. <br>\n",
    "Possibly, I could df_tip with restaurant_df on business_id."
   ]
  },
  {
   "cell_type": "code",
   "execution_count": 39,
   "metadata": {},
   "outputs": [],
   "source": [
    "df_restaurant_tip = pd.merge(restaurant_df, df_tip, on = 'business_id')"
   ]
  },
  {
   "cell_type": "code",
   "execution_count": 40,
   "metadata": {},
   "outputs": [
    {
     "data": {
      "text/html": [
       "<div>\n",
       "<style scoped>\n",
       "    .dataframe tbody tr th:only-of-type {\n",
       "        vertical-align: middle;\n",
       "    }\n",
       "\n",
       "    .dataframe tbody tr th {\n",
       "        vertical-align: top;\n",
       "    }\n",
       "\n",
       "    .dataframe thead th {\n",
       "        text-align: right;\n",
       "    }\n",
       "</style>\n",
       "<table border=\"1\" class=\"dataframe\">\n",
       "  <thead>\n",
       "    <tr style=\"text-align: right;\">\n",
       "      <th></th>\n",
       "      <th>business_id</th>\n",
       "      <th>name</th>\n",
       "      <th>address</th>\n",
       "      <th>city</th>\n",
       "      <th>state</th>\n",
       "      <th>postal_code</th>\n",
       "      <th>latitude</th>\n",
       "      <th>longitude</th>\n",
       "      <th>stars</th>\n",
       "      <th>review_count</th>\n",
       "      <th>attributes</th>\n",
       "      <th>categories</th>\n",
       "      <th>user_id</th>\n",
       "      <th>text</th>\n",
       "      <th>date</th>\n",
       "      <th>compliment_count</th>\n",
       "    </tr>\n",
       "  </thead>\n",
       "  <tbody>\n",
       "    <tr>\n",
       "      <td>0</td>\n",
       "      <td>lu7vtrp_bE9PnxWfA8g4Pg</td>\n",
       "      <td>Banzai Sushi</td>\n",
       "      <td>300 John Street</td>\n",
       "      <td>Thornhill</td>\n",
       "      <td>ON</td>\n",
       "      <td>L3T 5W4</td>\n",
       "      <td>43.820492</td>\n",
       "      <td>-79.398466</td>\n",
       "      <td>4.5</td>\n",
       "      <td>7</td>\n",
       "      <td>{'GoodForKids': 'True', 'RestaurantsTakeOut': ...</td>\n",
       "      <td>Japanese, Fast Food, Food Court, Restaurants</td>\n",
       "      <td>kmzYKcAL2AGmAnlCF8UitA</td>\n",
       "      <td>The owners are really kind and cute</td>\n",
       "      <td>2018-07-24 21:10:31</td>\n",
       "      <td>0</td>\n",
       "    </tr>\n",
       "    <tr>\n",
       "      <td>1</td>\n",
       "      <td>lu7vtrp_bE9PnxWfA8g4Pg</td>\n",
       "      <td>Banzai Sushi</td>\n",
       "      <td>300 John Street</td>\n",
       "      <td>Thornhill</td>\n",
       "      <td>ON</td>\n",
       "      <td>L3T 5W4</td>\n",
       "      <td>43.820492</td>\n",
       "      <td>-79.398466</td>\n",
       "      <td>4.5</td>\n",
       "      <td>7</td>\n",
       "      <td>{'GoodForKids': 'True', 'RestaurantsTakeOut': ...</td>\n",
       "      <td>Japanese, Fast Food, Food Court, Restaurants</td>\n",
       "      <td>dSTRQSeCqMTbs7l8KF_xJg</td>\n",
       "      <td>If the roll you want isn't already made tell t...</td>\n",
       "      <td>2015-04-16 05:30:33</td>\n",
       "      <td>0</td>\n",
       "    </tr>\n",
       "    <tr>\n",
       "      <td>2</td>\n",
       "      <td>lu7vtrp_bE9PnxWfA8g4Pg</td>\n",
       "      <td>Banzai Sushi</td>\n",
       "      <td>300 John Street</td>\n",
       "      <td>Thornhill</td>\n",
       "      <td>ON</td>\n",
       "      <td>L3T 5W4</td>\n",
       "      <td>43.820492</td>\n",
       "      <td>-79.398466</td>\n",
       "      <td>4.5</td>\n",
       "      <td>7</td>\n",
       "      <td>{'GoodForKids': 'True', 'RestaurantsTakeOut': ...</td>\n",
       "      <td>Japanese, Fast Food, Food Court, Restaurants</td>\n",
       "      <td>jQngqbkDXAyDN_Z5Umc4KA</td>\n",
       "      <td>Good taste, good price, friendly people!</td>\n",
       "      <td>2016-06-19 19:04:28</td>\n",
       "      <td>0</td>\n",
       "    </tr>\n",
       "    <tr>\n",
       "      <td>3</td>\n",
       "      <td>vjTVxnsQEZ34XjYNS-XUpA</td>\n",
       "      <td>Wetzel's Pretzels</td>\n",
       "      <td>4550 East Cactus Rd, #KSFC-4</td>\n",
       "      <td>Phoenix</td>\n",
       "      <td>AZ</td>\n",
       "      <td>85032</td>\n",
       "      <td>33.602822</td>\n",
       "      <td>-111.983533</td>\n",
       "      <td>4.0</td>\n",
       "      <td>10</td>\n",
       "      <td>{'GoodForKids': 'True', 'RestaurantsTakeOut': ...</td>\n",
       "      <td>Food, Pretzels, Bakeries, Fast Food, Restaurants</td>\n",
       "      <td>A0j21z2Q1HGic7jW6e9h7A</td>\n",
       "      <td>This Wetzel's Pretzels is located in the PV Fo...</td>\n",
       "      <td>2013-03-15 21:37:17</td>\n",
       "      <td>0</td>\n",
       "    </tr>\n",
       "    <tr>\n",
       "      <td>4</td>\n",
       "      <td>vjTVxnsQEZ34XjYNS-XUpA</td>\n",
       "      <td>Wetzel's Pretzels</td>\n",
       "      <td>4550 East Cactus Rd, #KSFC-4</td>\n",
       "      <td>Phoenix</td>\n",
       "      <td>AZ</td>\n",
       "      <td>85032</td>\n",
       "      <td>33.602822</td>\n",
       "      <td>-111.983533</td>\n",
       "      <td>4.0</td>\n",
       "      <td>10</td>\n",
       "      <td>{'GoodForKids': 'True', 'RestaurantsTakeOut': ...</td>\n",
       "      <td>Food, Pretzels, Bakeries, Fast Food, Restaurants</td>\n",
       "      <td>Q4Qfu-3vYtL1LRm2X1b0Gg</td>\n",
       "      <td>Jalapeno pretzel!</td>\n",
       "      <td>2012-12-21 17:37:21</td>\n",
       "      <td>0</td>\n",
       "    </tr>\n",
       "  </tbody>\n",
       "</table>\n",
       "</div>"
      ],
      "text/plain": [
       "              business_id               name                       address  \\\n",
       "0  lu7vtrp_bE9PnxWfA8g4Pg       Banzai Sushi               300 John Street   \n",
       "1  lu7vtrp_bE9PnxWfA8g4Pg       Banzai Sushi               300 John Street   \n",
       "2  lu7vtrp_bE9PnxWfA8g4Pg       Banzai Sushi               300 John Street   \n",
       "3  vjTVxnsQEZ34XjYNS-XUpA  Wetzel's Pretzels  4550 East Cactus Rd, #KSFC-4   \n",
       "4  vjTVxnsQEZ34XjYNS-XUpA  Wetzel's Pretzels  4550 East Cactus Rd, #KSFC-4   \n",
       "\n",
       "        city state postal_code   latitude   longitude  stars  review_count  \\\n",
       "0  Thornhill    ON     L3T 5W4  43.820492  -79.398466    4.5             7   \n",
       "1  Thornhill    ON     L3T 5W4  43.820492  -79.398466    4.5             7   \n",
       "2  Thornhill    ON     L3T 5W4  43.820492  -79.398466    4.5             7   \n",
       "3    Phoenix    AZ       85032  33.602822 -111.983533    4.0            10   \n",
       "4    Phoenix    AZ       85032  33.602822 -111.983533    4.0            10   \n",
       "\n",
       "                                          attributes  \\\n",
       "0  {'GoodForKids': 'True', 'RestaurantsTakeOut': ...   \n",
       "1  {'GoodForKids': 'True', 'RestaurantsTakeOut': ...   \n",
       "2  {'GoodForKids': 'True', 'RestaurantsTakeOut': ...   \n",
       "3  {'GoodForKids': 'True', 'RestaurantsTakeOut': ...   \n",
       "4  {'GoodForKids': 'True', 'RestaurantsTakeOut': ...   \n",
       "\n",
       "                                         categories                 user_id  \\\n",
       "0      Japanese, Fast Food, Food Court, Restaurants  kmzYKcAL2AGmAnlCF8UitA   \n",
       "1      Japanese, Fast Food, Food Court, Restaurants  dSTRQSeCqMTbs7l8KF_xJg   \n",
       "2      Japanese, Fast Food, Food Court, Restaurants  jQngqbkDXAyDN_Z5Umc4KA   \n",
       "3  Food, Pretzels, Bakeries, Fast Food, Restaurants  A0j21z2Q1HGic7jW6e9h7A   \n",
       "4  Food, Pretzels, Bakeries, Fast Food, Restaurants  Q4Qfu-3vYtL1LRm2X1b0Gg   \n",
       "\n",
       "                                                text                date  \\\n",
       "0                The owners are really kind and cute 2018-07-24 21:10:31   \n",
       "1  If the roll you want isn't already made tell t... 2015-04-16 05:30:33   \n",
       "2           Good taste, good price, friendly people! 2016-06-19 19:04:28   \n",
       "3  This Wetzel's Pretzels is located in the PV Fo... 2013-03-15 21:37:17   \n",
       "4                                  Jalapeno pretzel! 2012-12-21 17:37:21   \n",
       "\n",
       "   compliment_count  \n",
       "0                 0  \n",
       "1                 0  \n",
       "2                 0  \n",
       "3                 0  \n",
       "4                 0  "
      ]
     },
     "execution_count": 40,
     "metadata": {},
     "output_type": "execute_result"
    }
   ],
   "source": [
    "df_restaurant_tip.head()"
   ]
  },
  {
   "cell_type": "code",
   "execution_count": 42,
   "metadata": {},
   "outputs": [
    {
     "data": {
      "text/plain": [
       "(695917, 16)"
      ]
     },
     "execution_count": 42,
     "metadata": {},
     "output_type": "execute_result"
    }
   ],
   "source": [
    "df_restaurant_tip.shape"
   ]
  },
  {
   "cell_type": "markdown",
   "metadata": {},
   "source": [
    "695,917 tips about 43,965 restaurants. That makes it over 100-150 tips per restaurant?"
   ]
  },
  {
   "cell_type": "code",
   "execution_count": 43,
   "metadata": {},
   "outputs": [],
   "source": [
    "df_restaurant_tip.to_csv('restaurant_tip.csv')"
   ]
  },
  {
   "cell_type": "markdown",
   "metadata": {},
   "source": [
    "Now, off to the Part 2: the **EDA notebook**."
   ]
  }
 ],
 "metadata": {
  "kernelspec": {
   "display_name": "Python 3",
   "language": "python",
   "name": "python3"
  },
  "language_info": {
   "codemirror_mode": {
    "name": "ipython",
    "version": 3
   },
   "file_extension": ".py",
   "mimetype": "text/x-python",
   "name": "python",
   "nbconvert_exporter": "python",
   "pygments_lexer": "ipython3",
   "version": "3.7.4"
  }
 },
 "nbformat": 4,
 "nbformat_minor": 2
}
