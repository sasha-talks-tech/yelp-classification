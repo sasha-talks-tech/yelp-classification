{
 "cells": [
  {
   "cell_type": "markdown",
   "metadata": {},
   "source": [
    "This notebook is dedicated to modeling data. All the data cleaning and exploratory data analysis, as well as the original data source, are attached in the previous notebooks."
   ]
  },
  {
   "cell_type": "markdown",
   "metadata": {},
   "source": [
    "#### Importing tools and libraries."
   ]
  },
  {
   "cell_type": "code",
   "execution_count": 238,
   "metadata": {},
   "outputs": [],
   "source": [
    "import pandas as pd\n",
    "import numpy as np\n",
    "from pandas.plotting import scatter_matrix\n",
    "import matplotlib.pyplot as plt\n",
    "from matplotlib import cm\n",
    "import matplotlib.ticker as tick \n",
    "import seaborn as sns\n",
    "\n",
    "plt.style.use('ggplot')\n",
    "\n",
    "from sklearn.model_selection import train_test_split\n",
    "from sklearn.model_selection import cross_val_score\n",
    "from sklearn.model_selection import StratifiedKFold\n",
    "\n",
    "from sklearn.metrics import classification_report\n",
    "from sklearn.metrics import confusion_matrix\n",
    "from sklearn.metrics import accuracy_score\n",
    "\n",
    "from sklearn.preprocessing import MinMaxScaler\n",
    "from sklearn.preprocessing import scale, StandardScaler\n",
    "\n",
    "from sklearn.linear_model import LogisticRegression\n",
    "from sklearn.tree import DecisionTreeClassifier\n",
    "from sklearn.neighbors import KNeighborsClassifier\n",
    "from sklearn.discriminant_analysis import LinearDiscriminantAnalysis\n",
    "from sklearn.naive_bayes import GaussianNB\n",
    "#from sklearn.svm import SVC\n",
    "from sklearn import svm\n",
    "from sklearn.model_selection import GridSearchCV"
   ]
  },
  {
   "cell_type": "markdown",
   "metadata": {},
   "source": [
    "#### Loading the dataframe: model_df from the model.csv file."
   ]
  },
  {
   "cell_type": "markdown",
   "metadata": {},
   "source": [
    "Reading the model_df from csv: it contains the Las Vegas restaurant info. Reasoning behind choosing Las Vegas as the sample space is illustrated in the EDA notebook in a greater detail. **TL;DR:** just seems sufficient."
   ]
  },
  {
   "cell_type": "code",
   "execution_count": 154,
   "metadata": {},
   "outputs": [],
   "source": [
    "model_df = pd.read_csv('yelp_dataset/model.csv').drop(['Unnamed: 0'],axis=1)"
   ]
  },
  {
   "cell_type": "code",
   "execution_count": 155,
   "metadata": {},
   "outputs": [
    {
     "data": {
      "text/html": [
       "<div>\n",
       "<style scoped>\n",
       "    .dataframe tbody tr th:only-of-type {\n",
       "        vertical-align: middle;\n",
       "    }\n",
       "\n",
       "    .dataframe tbody tr th {\n",
       "        vertical-align: top;\n",
       "    }\n",
       "\n",
       "    .dataframe thead th {\n",
       "        text-align: right;\n",
       "    }\n",
       "</style>\n",
       "<table border=\"1\" class=\"dataframe\">\n",
       "  <thead>\n",
       "    <tr style=\"text-align: right;\">\n",
       "      <th></th>\n",
       "      <th>business_id</th>\n",
       "      <th>total_checkins</th>\n",
       "      <th>name</th>\n",
       "      <th>city</th>\n",
       "      <th>state</th>\n",
       "      <th>stars</th>\n",
       "      <th>review_count</th>\n",
       "      <th>attributes</th>\n",
       "      <th>categories</th>\n",
       "      <th>takes_cards</th>\n",
       "      <th>alcohol</th>\n",
       "      <th>quality</th>\n",
       "    </tr>\n",
       "  </thead>\n",
       "  <tbody>\n",
       "    <tr>\n",
       "      <td>0</td>\n",
       "      <td>--9e1ONYQuAa-CB_Rrw7Tw</td>\n",
       "      <td>61780</td>\n",
       "      <td>Delmonico Steakhouse</td>\n",
       "      <td>Las Vegas</td>\n",
       "      <td>NV</td>\n",
       "      <td>4.0</td>\n",
       "      <td>1759</td>\n",
       "      <td>{'Alcohol': \"'full_bar'\", 'BusinessParking': \"...</td>\n",
       "      <td>Seafood, Cajun/Creole, Restaurants, Steakhouses</td>\n",
       "      <td>True</td>\n",
       "      <td>True</td>\n",
       "      <td>good</td>\n",
       "    </tr>\n",
       "    <tr>\n",
       "      <td>1</td>\n",
       "      <td>-0RkJ_uIduNLWQrphbADRw</td>\n",
       "      <td>3799</td>\n",
       "      <td>Rooster Boy Cafe</td>\n",
       "      <td>Las Vegas</td>\n",
       "      <td>NV</td>\n",
       "      <td>4.0</td>\n",
       "      <td>194</td>\n",
       "      <td>{'WheelchairAccessible': 'True', 'RestaurantsP...</td>\n",
       "      <td>Coffee &amp; Tea, Restaurants, Cafes, Food, Breakf...</td>\n",
       "      <td>True</td>\n",
       "      <td>False</td>\n",
       "      <td>good</td>\n",
       "    </tr>\n",
       "  </tbody>\n",
       "</table>\n",
       "</div>"
      ],
      "text/plain": [
       "              business_id  total_checkins                  name       city  \\\n",
       "0  --9e1ONYQuAa-CB_Rrw7Tw           61780  Delmonico Steakhouse  Las Vegas   \n",
       "1  -0RkJ_uIduNLWQrphbADRw            3799      Rooster Boy Cafe  Las Vegas   \n",
       "\n",
       "  state  stars  review_count  \\\n",
       "0    NV    4.0          1759   \n",
       "1    NV    4.0           194   \n",
       "\n",
       "                                          attributes  \\\n",
       "0  {'Alcohol': \"'full_bar'\", 'BusinessParking': \"...   \n",
       "1  {'WheelchairAccessible': 'True', 'RestaurantsP...   \n",
       "\n",
       "                                          categories takes_cards  alcohol  \\\n",
       "0    Seafood, Cajun/Creole, Restaurants, Steakhouses        True     True   \n",
       "1  Coffee & Tea, Restaurants, Cafes, Food, Breakf...        True    False   \n",
       "\n",
       "  quality  \n",
       "0    good  \n",
       "1    good  "
      ]
     },
     "execution_count": 155,
     "metadata": {},
     "output_type": "execute_result"
    }
   ],
   "source": [
    "model_df.head(2)"
   ]
  },
  {
   "cell_type": "code",
   "execution_count": 156,
   "metadata": {},
   "outputs": [
    {
     "data": {
      "image/png": "[encoded data removed]",
      "text/plain": [
       "<Figure size 432x288 with 1 Axes>"
      ]
     },
     "metadata": {},
     "output_type": "display_data"
    }
   ],
   "source": [
    "sns.countplot(x ='quality', data = model_df, palette = 'Set2') \n",
    "plt.ylabel(\"Number of ratings\")\n",
    "plt.show;"
   ]
  },
  {
   "cell_type": "markdown",
   "metadata": {},
   "source": [
    "There appears to be a close tie. We want to pick one feature to start that separates the two cases. The pairplot diagonal will help guide us towards a covariate that separates the data well."
   ]
  },
  {
   "cell_type": "markdown",
   "metadata": {},
   "source": [
    "## Features"
   ]
  },
  {
   "cell_type": "code",
   "execution_count": 158,
   "metadata": {
    "scrolled": true
   },
   "outputs": [
    {
     "data": {
      "image/png": "[encoded data removed]",
      "text/plain": [
       "<Figure size 780.75x720 with 20 Axes>"
      ]
     },
     "metadata": {},
     "output_type": "display_data"
    }
   ],
   "source": [
    "sns.pairplot(model_df, hue='quality', palette = \"Set2\");"
   ]
  },
  {
   "cell_type": "markdown",
   "metadata": {},
   "source": [
    "* By looking at the pairplot above, we can clearly see that people tend to be frequenting the places with good star reviews more often. Also, people seem to be favoring places that serve alcohol, based on the foot traffic."
   ]
  },
  {
   "cell_type": "markdown",
   "metadata": {},
   "source": [
    "* Turns out, takes_cards parameter got saved as a string rather than a boolean value, and this is why it didn't show up on the pairplot. Those values need to be adjusted."
   ]
  },
  {
   "cell_type": "code",
   "execution_count": 159,
   "metadata": {},
   "outputs": [
    {
     "data": {
      "text/plain": [
       "array(['True', 'False', 'None'], dtype=object)"
      ]
     },
     "execution_count": 159,
     "metadata": {},
     "output_type": "execute_result"
    }
   ],
   "source": [
    "model_df['takes_cards'].unique()"
   ]
  },
  {
   "cell_type": "code",
   "execution_count": 160,
   "metadata": {},
   "outputs": [],
   "source": [
    "swap = {'None': False, 'False': False, 'True': True}\n",
    "model_df['takes_cards'] = model_df['takes_cards'].map(swap)"
   ]
  },
  {
   "cell_type": "code",
   "execution_count": 192,
   "metadata": {
    "scrolled": true
   },
   "outputs": [
    {
     "data": {
      "text/html": [
       "<div>\n",
       "<style scoped>\n",
       "    .dataframe tbody tr th:only-of-type {\n",
       "        vertical-align: middle;\n",
       "    }\n",
       "\n",
       "    .dataframe tbody tr th {\n",
       "        vertical-align: top;\n",
       "    }\n",
       "\n",
       "    .dataframe thead th {\n",
       "        text-align: right;\n",
       "    }\n",
       "</style>\n",
       "<table border=\"1\" class=\"dataframe\">\n",
       "  <thead>\n",
       "    <tr style=\"text-align: right;\">\n",
       "      <th></th>\n",
       "      <th>business_id</th>\n",
       "      <th>total_checkins</th>\n",
       "      <th>name</th>\n",
       "      <th>city</th>\n",
       "      <th>state</th>\n",
       "      <th>stars</th>\n",
       "      <th>review_count</th>\n",
       "      <th>attributes</th>\n",
       "      <th>categories</th>\n",
       "      <th>takes_cards</th>\n",
       "      <th>alcohol</th>\n",
       "      <th>quality</th>\n",
       "    </tr>\n",
       "  </thead>\n",
       "  <tbody>\n",
       "    <tr>\n",
       "      <td>0</td>\n",
       "      <td>--9e1ONYQuAa-CB_Rrw7Tw</td>\n",
       "      <td>61780</td>\n",
       "      <td>Delmonico Steakhouse</td>\n",
       "      <td>Las Vegas</td>\n",
       "      <td>NV</td>\n",
       "      <td>4.0</td>\n",
       "      <td>1759</td>\n",
       "      <td>{'Alcohol': \"'full_bar'\", 'BusinessParking': \"...</td>\n",
       "      <td>Seafood, Cajun/Creole, Restaurants, Steakhouses</td>\n",
       "      <td>True</td>\n",
       "      <td>True</td>\n",
       "      <td>good</td>\n",
       "    </tr>\n",
       "    <tr>\n",
       "      <td>1</td>\n",
       "      <td>-0RkJ_uIduNLWQrphbADRw</td>\n",
       "      <td>3799</td>\n",
       "      <td>Rooster Boy Cafe</td>\n",
       "      <td>Las Vegas</td>\n",
       "      <td>NV</td>\n",
       "      <td>4.0</td>\n",
       "      <td>194</td>\n",
       "      <td>{'WheelchairAccessible': 'True', 'RestaurantsP...</td>\n",
       "      <td>Coffee &amp; Tea, Restaurants, Cafes, Food, Breakf...</td>\n",
       "      <td>True</td>\n",
       "      <td>False</td>\n",
       "      <td>good</td>\n",
       "    </tr>\n",
       "    <tr>\n",
       "      <td>2</td>\n",
       "      <td>-1m9o3vGRA8IBPNvNqKLmA</td>\n",
       "      <td>11107</td>\n",
       "      <td>Bavette's Steakhouse &amp; Bar</td>\n",
       "      <td>Las Vegas</td>\n",
       "      <td>NV</td>\n",
       "      <td>4.5</td>\n",
       "      <td>493</td>\n",
       "      <td>{'RestaurantsTakeOut': 'False', 'WiFi': \"u'fre...</td>\n",
       "      <td>Bars, African, Cocktail Bars, American (New), ...</td>\n",
       "      <td>True</td>\n",
       "      <td>True</td>\n",
       "      <td>good</td>\n",
       "    </tr>\n",
       "    <tr>\n",
       "      <td>3</td>\n",
       "      <td>-2nfJ8yK54A7Md2RzmMR4g</td>\n",
       "      <td>82</td>\n",
       "      <td>Louie Louie Hibachi &amp; Sushi On The Road</td>\n",
       "      <td>Las Vegas</td>\n",
       "      <td>NV</td>\n",
       "      <td>5.0</td>\n",
       "      <td>8</td>\n",
       "      <td>{'Caters': 'True', 'RestaurantsTableService': ...</td>\n",
       "      <td>Food Trucks, Japanese, Food, Sushi Bars, Resta...</td>\n",
       "      <td>True</td>\n",
       "      <td>False</td>\n",
       "      <td>good</td>\n",
       "    </tr>\n",
       "    <tr>\n",
       "      <td>4</td>\n",
       "      <td>-3cJ2k_iwauMpy1WfI4NrA</td>\n",
       "      <td>2938</td>\n",
       "      <td>Pho4Real</td>\n",
       "      <td>Las Vegas</td>\n",
       "      <td>NV</td>\n",
       "      <td>4.5</td>\n",
       "      <td>159</td>\n",
       "      <td>{'NoiseLevel': \"u'average'\", 'Ambience': \"{'to...</td>\n",
       "      <td>Vietnamese, Noodles, Soup, Restaurants</td>\n",
       "      <td>True</td>\n",
       "      <td>False</td>\n",
       "      <td>good</td>\n",
       "    </tr>\n",
       "    <tr>\n",
       "      <td>...</td>\n",
       "      <td>...</td>\n",
       "      <td>...</td>\n",
       "      <td>...</td>\n",
       "      <td>...</td>\n",
       "      <td>...</td>\n",
       "      <td>...</td>\n",
       "      <td>...</td>\n",
       "      <td>...</td>\n",
       "      <td>...</td>\n",
       "      <td>...</td>\n",
       "      <td>...</td>\n",
       "      <td>...</td>\n",
       "    </tr>\n",
       "    <tr>\n",
       "      <td>4293</td>\n",
       "      <td>zrMpy_uQ5_77YapMkp8lUA</td>\n",
       "      <td>1258</td>\n",
       "      <td>Asada's Tacos</td>\n",
       "      <td>Las Vegas</td>\n",
       "      <td>NV</td>\n",
       "      <td>3.0</td>\n",
       "      <td>22</td>\n",
       "      <td>{'NoiseLevel': \"u'average'\", 'RestaurantsAttir...</td>\n",
       "      <td>Mexican, Restaurants</td>\n",
       "      <td>True</td>\n",
       "      <td>False</td>\n",
       "      <td>bad</td>\n",
       "    </tr>\n",
       "    <tr>\n",
       "      <td>4294</td>\n",
       "      <td>zsQk990PubOHjr1YcLkQFw</td>\n",
       "      <td>17281</td>\n",
       "      <td>Dakao Sandwiches</td>\n",
       "      <td>Las Vegas</td>\n",
       "      <td>NV</td>\n",
       "      <td>4.0</td>\n",
       "      <td>252</td>\n",
       "      <td>{'BikeParking': 'True', 'RestaurantsReservatio...</td>\n",
       "      <td>Food, Bakeries, Sandwiches, Vietnamese, Restau...</td>\n",
       "      <td>True</td>\n",
       "      <td>False</td>\n",
       "      <td>good</td>\n",
       "    </tr>\n",
       "    <tr>\n",
       "      <td>4295</td>\n",
       "      <td>ztIaKXWOuWcRf7GJo9-fWQ</td>\n",
       "      <td>6487</td>\n",
       "      <td>Adventure Indoor Playground</td>\n",
       "      <td>Las Vegas</td>\n",
       "      <td>NV</td>\n",
       "      <td>4.0</td>\n",
       "      <td>132</td>\n",
       "      <td>{'ByAppointmentOnly': 'False', 'WheelchairAcce...</td>\n",
       "      <td>Party &amp; Event Planning, Event Planning &amp; Servi...</td>\n",
       "      <td>True</td>\n",
       "      <td>True</td>\n",
       "      <td>good</td>\n",
       "    </tr>\n",
       "    <tr>\n",
       "      <td>4296</td>\n",
       "      <td>zuwba6QEBIDZT0tJZmNhdQ</td>\n",
       "      <td>10036</td>\n",
       "      <td>Kobe Sushi Bar</td>\n",
       "      <td>Las Vegas</td>\n",
       "      <td>NV</td>\n",
       "      <td>3.5</td>\n",
       "      <td>359</td>\n",
       "      <td>{'NoiseLevel': \"u'average'\", 'RestaurantsGoodF...</td>\n",
       "      <td>Tapas Bars, Restaurants, Japanese, Sushi Bars</td>\n",
       "      <td>True</td>\n",
       "      <td>True</td>\n",
       "      <td>bad</td>\n",
       "    </tr>\n",
       "    <tr>\n",
       "      <td>4297</td>\n",
       "      <td>zx_j6OuuHHa2afVoAZuLpA</td>\n",
       "      <td>12094</td>\n",
       "      <td>what's Crepe</td>\n",
       "      <td>Las Vegas</td>\n",
       "      <td>NV</td>\n",
       "      <td>4.5</td>\n",
       "      <td>184</td>\n",
       "      <td>{'RestaurantsTableService': 'False', 'BikePark...</td>\n",
       "      <td>Creperies, Desserts, Food, Restaurants, Acai B...</td>\n",
       "      <td>True</td>\n",
       "      <td>False</td>\n",
       "      <td>good</td>\n",
       "    </tr>\n",
       "  </tbody>\n",
       "</table>\n",
       "<p>4298 rows × 12 columns</p>\n",
       "</div>"
      ],
      "text/plain": [
       "                 business_id  total_checkins  \\\n",
       "0     --9e1ONYQuAa-CB_Rrw7Tw           61780   \n",
       "1     -0RkJ_uIduNLWQrphbADRw            3799   \n",
       "2     -1m9o3vGRA8IBPNvNqKLmA           11107   \n",
       "3     -2nfJ8yK54A7Md2RzmMR4g              82   \n",
       "4     -3cJ2k_iwauMpy1WfI4NrA            2938   \n",
       "...                      ...             ...   \n",
       "4293  zrMpy_uQ5_77YapMkp8lUA            1258   \n",
       "4294  zsQk990PubOHjr1YcLkQFw           17281   \n",
       "4295  ztIaKXWOuWcRf7GJo9-fWQ            6487   \n",
       "4296  zuwba6QEBIDZT0tJZmNhdQ           10036   \n",
       "4297  zx_j6OuuHHa2afVoAZuLpA           12094   \n",
       "\n",
       "                                         name       city state  stars  \\\n",
       "0                        Delmonico Steakhouse  Las Vegas    NV    4.0   \n",
       "1                            Rooster Boy Cafe  Las Vegas    NV    4.0   \n",
       "2                  Bavette's Steakhouse & Bar  Las Vegas    NV    4.5   \n",
       "3     Louie Louie Hibachi & Sushi On The Road  Las Vegas    NV    5.0   \n",
       "4                                    Pho4Real  Las Vegas    NV    4.5   \n",
       "...                                       ...        ...   ...    ...   \n",
       "4293                            Asada's Tacos  Las Vegas    NV    3.0   \n",
       "4294                         Dakao Sandwiches  Las Vegas    NV    4.0   \n",
       "4295              Adventure Indoor Playground  Las Vegas    NV    4.0   \n",
       "4296                           Kobe Sushi Bar  Las Vegas    NV    3.5   \n",
       "4297                             what's Crepe  Las Vegas    NV    4.5   \n",
       "\n",
       "      review_count                                         attributes  \\\n",
       "0             1759  {'Alcohol': \"'full_bar'\", 'BusinessParking': \"...   \n",
       "1              194  {'WheelchairAccessible': 'True', 'RestaurantsP...   \n",
       "2              493  {'RestaurantsTakeOut': 'False', 'WiFi': \"u'fre...   \n",
       "3                8  {'Caters': 'True', 'RestaurantsTableService': ...   \n",
       "4              159  {'NoiseLevel': \"u'average'\", 'Ambience': \"{'to...   \n",
       "...            ...                                                ...   \n",
       "4293            22  {'NoiseLevel': \"u'average'\", 'RestaurantsAttir...   \n",
       "4294           252  {'BikeParking': 'True', 'RestaurantsReservatio...   \n",
       "4295           132  {'ByAppointmentOnly': 'False', 'WheelchairAcce...   \n",
       "4296           359  {'NoiseLevel': \"u'average'\", 'RestaurantsGoodF...   \n",
       "4297           184  {'RestaurantsTableService': 'False', 'BikePark...   \n",
       "\n",
       "                                             categories  takes_cards  alcohol  \\\n",
       "0       Seafood, Cajun/Creole, Restaurants, Steakhouses         True     True   \n",
       "1     Coffee & Tea, Restaurants, Cafes, Food, Breakf...         True    False   \n",
       "2     Bars, African, Cocktail Bars, American (New), ...         True     True   \n",
       "3     Food Trucks, Japanese, Food, Sushi Bars, Resta...         True    False   \n",
       "4                Vietnamese, Noodles, Soup, Restaurants         True    False   \n",
       "...                                                 ...          ...      ...   \n",
       "4293                               Mexican, Restaurants         True    False   \n",
       "4294  Food, Bakeries, Sandwiches, Vietnamese, Restau...         True    False   \n",
       "4295  Party & Event Planning, Event Planning & Servi...         True     True   \n",
       "4296      Tapas Bars, Restaurants, Japanese, Sushi Bars         True     True   \n",
       "4297  Creperies, Desserts, Food, Restaurants, Acai B...         True    False   \n",
       "\n",
       "     quality  \n",
       "0       good  \n",
       "1       good  \n",
       "2       good  \n",
       "3       good  \n",
       "4       good  \n",
       "...      ...  \n",
       "4293     bad  \n",
       "4294    good  \n",
       "4295    good  \n",
       "4296     bad  \n",
       "4297    good  \n",
       "\n",
       "[4298 rows x 12 columns]"
      ]
     },
     "execution_count": 192,
     "metadata": {},
     "output_type": "execute_result"
    }
   ],
   "source": [
    "model_df"
   ]
  },
  {
   "cell_type": "code",
   "execution_count": 194,
   "metadata": {},
   "outputs": [
    {
     "data": {
      "text/plain": [
       "(4298, 12)"
      ]
     },
     "execution_count": 194,
     "metadata": {},
     "output_type": "execute_result"
    }
   ],
   "source": [
    "model_df.shape"
   ]
  },
  {
   "cell_type": "code",
   "execution_count": 148,
   "metadata": {},
   "outputs": [
    {
     "data": {
      "image/png": "[encoded data removed]",
      "text/plain": [
       "<Figure size 432x288 with 1 Axes>"
      ]
     },
     "metadata": {},
     "output_type": "display_data"
    }
   ],
   "source": [
    "ax = sns.stripplot(x='quality',y='total_checkins', jitter=True,data=model_df,alpha=0.6, palette = \"Set2\")\n",
    "ax.get_yaxis().set_major_formatter(tick.FuncFormatter(lambda x, p: format(int(x), ',')));"
   ]
  },
  {
   "cell_type": "markdown",
   "metadata": {},
   "source": [
    "#### Feature assignment"
   ]
  },
  {
   "cell_type": "code",
   "execution_count": 164,
   "metadata": {},
   "outputs": [],
   "source": [
    "feature_names = ['review_count', 'total_checkins', 'takes_cards', 'alcohol']\n",
    "X = model_df[feature_names]\n",
    "y = model_df['quality']"
   ]
  },
  {
   "cell_type": "markdown",
   "metadata": {},
   "source": [
    "#### Separating training from testing data. Scaling."
   ]
  },
  {
   "cell_type": "code",
   "execution_count": 165,
   "metadata": {},
   "outputs": [],
   "source": [
    "X_train, X_test, y_train, y_test = train_test_split(X, y, test_size = 0.2, random_state = 42)"
   ]
  },
  {
   "cell_type": "code",
   "execution_count": 166,
   "metadata": {},
   "outputs": [],
   "source": [
    "scaler = MinMaxScaler()"
   ]
  },
  {
   "cell_type": "code",
   "execution_count": 167,
   "metadata": {},
   "outputs": [],
   "source": [
    "X_train = scaler.fit_transform(X_train)\n",
    "X_test = scaler.transform(X_test)"
   ]
  },
  {
   "cell_type": "markdown",
   "metadata": {},
   "source": [
    "# Modeling"
   ]
  },
  {
   "cell_type": "markdown",
   "metadata": {},
   "source": [
    "##  1) Logistic Regression"
   ]
  },
  {
   "cell_type": "markdown",
   "metadata": {},
   "source": [
    "logreg = LogisticRegression(solver = 'lbfgs')"
   ]
  },
  {
   "cell_type": "code",
   "execution_count": 169,
   "metadata": {},
   "outputs": [
    {
     "data": {
      "text/plain": [
       "LogisticRegression(C=1.0, class_weight=None, dual=False, fit_intercept=True,\n",
       "                   intercept_scaling=1, l1_ratio=None, max_iter=100,\n",
       "                   multi_class='warn', n_jobs=None, penalty='l2',\n",
       "                   random_state=None, solver='lbfgs', tol=0.0001, verbose=0,\n",
       "                   warm_start=False)"
      ]
     },
     "execution_count": 169,
     "metadata": {},
     "output_type": "execute_result"
    }
   ],
   "source": [
    "logreg.fit(X_train, y_train)"
   ]
  },
  {
   "cell_type": "markdown",
   "metadata": {},
   "source": [
    "The output observed above is a string representation of the fitted model.\n",
    "Now, we can evaluate the model's performance:"
   ]
  },
  {
   "cell_type": "code",
   "execution_count": 170,
   "metadata": {},
   "outputs": [
    {
     "data": {
      "text/plain": [
       "array([[0., 1.],\n",
       "       [0., 1.],\n",
       "       [0., 1.],\n",
       "       ...,\n",
       "       [0., 1.],\n",
       "       [0., 1.],\n",
       "       [0., 1.]])"
      ]
     },
     "execution_count": 170,
     "metadata": {},
     "output_type": "execute_result"
    }
   ],
   "source": [
    "logreg.predict_proba(X)"
   ]
  },
  {
   "cell_type": "code",
   "execution_count": 171,
   "metadata": {},
   "outputs": [
    {
     "data": {
      "text/plain": [
       "0.5837209302325581"
      ]
     },
     "execution_count": 171,
     "metadata": {},
     "output_type": "execute_result"
    }
   ],
   "source": [
    "logreg.score(X_test, y_test)"
   ]
  },
  {
   "cell_type": "code",
   "execution_count": 172,
   "metadata": {},
   "outputs": [
    {
     "data": {
      "text/plain": [
       "array([[350, 125],\n",
       "       [233, 152]])"
      ]
     },
     "execution_count": 172,
     "metadata": {},
     "output_type": "execute_result"
    }
   ],
   "source": [
    "confusion_matrix(y_test, logreg.predict(X_test))"
   ]
  },
  {
   "cell_type": "markdown",
   "metadata": {},
   "source": [
    "As we can tell, this model didn't turn out to be very accurate. <br>\n",
    "Let's take a look at the **confusion matrix**: <br>\n",
    " - **350** true positive predictions, **125** false positive predictions\n",
    " - **233** false negatives, **152** true negatives. <br>\n",
    " \n",
    "Also, binary classifiers aren't always ideal when we're looking for good food..."
   ]
  },
  {
   "cell_type": "code",
   "execution_count": 173,
   "metadata": {},
   "outputs": [
    {
     "name": "stdout",
     "output_type": "stream",
     "text": [
      "              precision    recall  f1-score   support\n",
      "\n",
      "         bad       0.00      0.00      0.00      2311\n",
      "        good       0.46      1.00      0.63      1987\n",
      "\n",
      "    accuracy                           0.46      4298\n",
      "   macro avg       0.23      0.50      0.32      4298\n",
      "weighted avg       0.21      0.46      0.29      4298\n",
      "\n"
     ]
    },
    {
     "name": "stderr",
     "output_type": "stream",
     "text": [
      "/Users/sasha_prokhorova/opt/anaconda3/lib/python3.7/site-packages/sklearn/metrics/classification.py:1437: UndefinedMetricWarning: Precision and F-score are ill-defined and being set to 0.0 in labels with no predicted samples.\n",
      "  'precision', 'predicted', average, warn_for)\n"
     ]
    }
   ],
   "source": [
    "print(classification_report(y, logreg.predict(X)))"
   ]
  },
  {
   "cell_type": "markdown",
   "metadata": {},
   "source": [
    "Not too hot...."
   ]
  },
  {
   "cell_type": "markdown",
   "metadata": {},
   "source": [
    "## 2) KNN"
   ]
  },
  {
   "cell_type": "code",
   "execution_count": 174,
   "metadata": {},
   "outputs": [
    {
     "data": {
      "text/plain": [
       "KNeighborsClassifier(algorithm='auto', leaf_size=30, metric='minkowski',\n",
       "                     metric_params=None, n_jobs=None, n_neighbors=5, p=2,\n",
       "                     weights='uniform')"
      ]
     },
     "execution_count": 174,
     "metadata": {},
     "output_type": "execute_result"
    }
   ],
   "source": [
    "classifier = KNeighborsClassifier(n_neighbors=5)\n",
    "classifier.fit(X_train, y_train)"
   ]
  },
  {
   "cell_type": "code",
   "execution_count": 175,
   "metadata": {},
   "outputs": [],
   "source": [
    "y_pred = classifier.predict(X_test)"
   ]
  },
  {
   "cell_type": "code",
   "execution_count": 176,
   "metadata": {},
   "outputs": [
    {
     "name": "stdout",
     "output_type": "stream",
     "text": [
      "[[320 155]\n",
      " [168 217]]\n",
      "              precision    recall  f1-score   support\n",
      "\n",
      "         bad       0.66      0.67      0.66       475\n",
      "        good       0.58      0.56      0.57       385\n",
      "\n",
      "    accuracy                           0.62       860\n",
      "   macro avg       0.62      0.62      0.62       860\n",
      "weighted avg       0.62      0.62      0.62       860\n",
      "\n"
     ]
    }
   ],
   "source": [
    "print(confusion_matrix(y_test, y_pred))\n",
    "print(classification_report(y_test, y_pred))"
   ]
  },
  {
   "cell_type": "code",
   "execution_count": 177,
   "metadata": {},
   "outputs": [],
   "source": [
    "error = []\n",
    "\n",
    "# Calculating error for K values between 1 and 40\n",
    "for i in range(1, 40):\n",
    "    knn = KNeighborsClassifier(n_neighbors=i)\n",
    "    knn.fit(X_train, y_train)\n",
    "    pred_i = knn.predict(X_test)\n",
    "    error.append(np.mean(pred_i != y_test))"
   ]
  },
  {
   "cell_type": "code",
   "execution_count": 178,
   "metadata": {},
   "outputs": [
    {
     "data": {
      "image/png": "[encoded data removed]",
      "text/plain": [
       "<Figure size 864x432 with 1 Axes>"
      ]
     },
     "metadata": {},
     "output_type": "display_data"
    }
   ],
   "source": [
    "plt.figure(figsize=(12, 6))\n",
    "plt.plot(range(1, 40), error, color='red', linestyle='dashed', marker='o',\n",
    "         markerfacecolor='blue', markersize=10)\n",
    "plt.title('Error Rate K Value')\n",
    "plt.xlabel('K Value')\n",
    "plt.ylabel('Mean Error');"
   ]
  },
  {
   "cell_type": "markdown",
   "metadata": {},
   "source": [
    "According to the graph above, this will work best with 6 nearest neighbors casting the vote."
   ]
  },
  {
   "cell_type": "code",
   "execution_count": 179,
   "metadata": {},
   "outputs": [
    {
     "data": {
      "text/plain": [
       "KNeighborsClassifier(algorithm='auto', leaf_size=30, metric='minkowski',\n",
       "                     metric_params=None, n_jobs=None, n_neighbors=6, p=2,\n",
       "                     weights='uniform')"
      ]
     },
     "execution_count": 179,
     "metadata": {},
     "output_type": "execute_result"
    }
   ],
   "source": [
    "classifier = KNeighborsClassifier(n_neighbors=6)\n",
    "classifier.fit(X_train, y_train)"
   ]
  },
  {
   "cell_type": "code",
   "execution_count": 180,
   "metadata": {},
   "outputs": [],
   "source": [
    "y_pred = classifier.predict(X_test)"
   ]
  },
  {
   "cell_type": "code",
   "execution_count": 181,
   "metadata": {},
   "outputs": [
    {
     "name": "stdout",
     "output_type": "stream",
     "text": [
      "[[369 106]\n",
      " [192 193]]\n",
      "              precision    recall  f1-score   support\n",
      "\n",
      "         bad       0.66      0.78      0.71       475\n",
      "        good       0.65      0.50      0.56       385\n",
      "\n",
      "    accuracy                           0.65       860\n",
      "   macro avg       0.65      0.64      0.64       860\n",
      "weighted avg       0.65      0.65      0.65       860\n",
      "\n"
     ]
    }
   ],
   "source": [
    "print(confusion_matrix(y_test, y_pred))\n",
    "print(classification_report(y_test, y_pred))"
   ]
  },
  {
   "cell_type": "markdown",
   "metadata": {},
   "source": [
    "KNN did slightly better than the others."
   ]
  },
  {
   "cell_type": "markdown",
   "metadata": {},
   "source": [
    "## 3) SVM"
   ]
  },
  {
   "cell_type": "markdown",
   "metadata": {},
   "source": [
    "Note: the code for this exercise is borrowed from @jasontdean"
   ]
  },
  {
   "cell_type": "markdown",
   "metadata": {},
   "source": [
    "What if we experimented with the star classification scale?"
   ]
  },
  {
   "cell_type": "code",
   "execution_count": 233,
   "metadata": {},
   "outputs": [],
   "source": [
    "svm_df = model_df.copy()\n",
    "from sklearn import preprocessing\n",
    "le = preprocessing.LabelEncoder()\n",
    "for column_name in svm_df.columns:\n",
    "    if svm_df[column_name].dtype == object:\n",
    "         svm_df[column_name] = le.fit_transform(svm_df[column_name])\n",
    "    else:\n",
    "         pass"
   ]
  },
  {
   "cell_type": "code",
   "execution_count": 234,
   "metadata": {},
   "outputs": [
    {
     "name": "stdout",
     "output_type": "stream",
     "text": [
      "Number of restaurats classified as greater than or equal to 4 stars (1):   1987\n",
      "Number of restaurats classified as less than or equal to 3 stars (0):   1470\n"
     ]
    },
    {
     "name": "stderr",
     "output_type": "stream",
     "text": [
      "/Users/sasha_prokhorova/opt/anaconda3/lib/python3.7/site-packages/ipykernel_launcher.py:9: FutureWarning: set_value is deprecated and will be removed in a future release. Please use .at[] or .iat[] accessors instead\n",
      "  if __name__ == '__main__':\n",
      "/Users/sasha_prokhorova/opt/anaconda3/lib/python3.7/site-packages/ipykernel_launcher.py:11: FutureWarning: set_value is deprecated and will be removed in a future release. Please use .at[] or .iat[] accessors instead\n",
      "  # This is added back by InteractiveShellApp.init_path()\n"
     ]
    }
   ],
   "source": [
    "# remove restaurants that have between 3 and 4 stars\n",
    "\n",
    "svm_df = svm_df.drop(svm_df[(svm_df['stars'] < 4) & (svm_df['stars'] > 3)].index)\n",
    "svm_df = svm_df.reset_index(drop=True)\n",
    "\n",
    "# if a restaurant has 4 stars or greater, assign it a value of 1, otherwise 0\n",
    "for i in range(0,len(svm_df)):\n",
    "    if svm_df['stars'][i] >= 4:\n",
    "        svm_df.set_value(i,'stars',1)\n",
    "    else: \n",
    "        svm_df.set_value(i,'stars',0)\n",
    "\n",
    "print(\"Number of restaurats classified as greater than or equal to 4 stars (1):  \",\n",
    "      len(svm_df[(svm_df['stars'] > 0)]))\n",
    "\n",
    "print(\"Number of restaurats classified as less than or equal to 3 stars (0):  \",\n",
    "      len(svm_df[(svm_df['stars'] == 0)]))"
   ]
  },
  {
   "cell_type": "code",
   "execution_count": 195,
   "metadata": {},
   "outputs": [
    {
     "data": {
      "text/plain": [
       "(3457, 12)"
      ]
     },
     "execution_count": 195,
     "metadata": {},
     "output_type": "execute_result"
    }
   ],
   "source": [
    "svm_df.shape"
   ]
  },
  {
   "cell_type": "code",
   "execution_count": 200,
   "metadata": {},
   "outputs": [
    {
     "data": {
      "text/plain": [
       "Index(['business_id', 'total_checkins', 'name', 'city', 'state', 'stars',\n",
       "       'review_count', 'attributes', 'categories', 'takes_cards', 'alcohol',\n",
       "       'quality'],\n",
       "      dtype='object')"
      ]
     },
     "execution_count": 200,
     "metadata": {},
     "output_type": "execute_result"
    }
   ],
   "source": [
    "svm_df.columns"
   ]
  },
  {
   "cell_type": "code",
   "execution_count": 236,
   "metadata": {},
   "outputs": [],
   "source": [
    "# split the data into test and training sets and scale\n",
    "split = np.random.rand(len(svm_df)) < 0.7\n",
    "svm_train = svm_df[split]\n",
    "svm_train_features = svm_train.drop(['stars'], axis=1)\n",
    "svm_train_labels = svm_train['stars']\n",
    "\n",
    "# scale the training data\n",
    "scaler = StandardScaler()\n",
    "svm_train_scaled = scaler.fit_transform(svm_train_features)\n",
    "\n",
    "# process the test data\n",
    "svm_test = svm_df[~split]\n",
    "svm_test_features = svm_test.drop(['stars'], axis=1)\n",
    "svm_test_labels = svm_test['stars']\n",
    "\n",
    "#scale the test data\n",
    "svm_test_scaled = scaler.transform(svm_test_features)"
   ]
  },
  {
   "cell_type": "markdown",
   "metadata": {},
   "source": [
    "We will next perform hyperparameter tuning using GridSearchCV. We will consider one kernel (rbf) and evaluate three different values of 'C' for each kernel. The rbf kernel also contains an additional hyperparameter, gamma. Note we will also use 10 fold cross validation across the test data set."
   ]
  },
  {
   "cell_type": "code",
   "execution_count": 239,
   "metadata": {},
   "outputs": [
    {
     "data": {
      "text/plain": [
       "GridSearchCV(cv=10, error_score='raise-deprecating',\n",
       "             estimator=SVC(C=1.0, cache_size=200, class_weight=None, coef0=0.0,\n",
       "                           decision_function_shape='ovr', degree=3,\n",
       "                           gamma='auto_deprecated', kernel='rbf', max_iter=-1,\n",
       "                           probability=False, random_state=None, shrinking=True,\n",
       "                           tol=0.001, verbose=False),\n",
       "             iid='warn', n_jobs=1,\n",
       "             param_grid=[{'C': [100, 1000, 10000],\n",
       "                          'gamma': [0.01, 0.001, 0.0001], 'kernel': ['rbf']}],\n",
       "             pre_dispatch='2*n_jobs', refit=True, return_train_score=False,\n",
       "             scoring=None, verbose=0)"
      ]
     },
     "execution_count": 239,
     "metadata": {},
     "output_type": "execute_result"
    }
   ],
   "source": [
    "# define hyperparameter grid and tuning via gridsearch\n",
    "parameter_candidates = [\n",
    "  {'C': [100, 1000, 10000], 'gamma': [0.01, 0.001, 0.0001], 'kernel': ['rbf']},\n",
    "]\n",
    "\n",
    "svr = svm.SVC()\n",
    "clf = GridSearchCV(svr, parameter_candidates, n_jobs=1, cv=10)\n",
    "clf.fit(svm_train_features, svm_train_labels)"
   ]
  },
  {
   "cell_type": "code",
   "execution_count": 240,
   "metadata": {},
   "outputs": [
    {
     "name": "stdout",
     "output_type": "stream",
     "text": [
      "Best C: 100\n",
      "Best Kernel: rbf\n",
      "Best Gamma: 0.01\n"
     ]
    }
   ],
   "source": [
    "# find the best hyperparameter values from tuning\n",
    "print('Best C:',clf.best_estimator_.C)\n",
    "print('Best Kernel:',clf.best_estimator_.kernel)\n",
    "print('Best Gamma:',clf.best_estimator_.gamma)"
   ]
  },
  {
   "cell_type": "code",
   "execution_count": 241,
   "metadata": {},
   "outputs": [
    {
     "data": {
      "text/plain": [
       "1.0"
      ]
     },
     "execution_count": 241,
     "metadata": {},
     "output_type": "execute_result"
    }
   ],
   "source": [
    "# We can now build a SVM model using the optimal values for the hyperparameters.\n",
    "\n",
    "SVMmodel = svm.SVC(kernel='rbf', C=10000, gamma=.001) \n",
    "SVMmodel.fit(svm_train_scaled, svm_train_labels)\n",
    "SVMmodel.score(svm_test_scaled, svm_test_labels)"
   ]
  },
  {
   "cell_type": "code",
   "execution_count": 242,
   "metadata": {},
   "outputs": [
    {
     "data": {
      "text/html": [
       "<div>\n",
       "<style scoped>\n",
       "    .dataframe tbody tr th:only-of-type {\n",
       "        vertical-align: middle;\n",
       "    }\n",
       "\n",
       "    .dataframe tbody tr th {\n",
       "        vertical-align: top;\n",
       "    }\n",
       "\n",
       "    .dataframe thead th {\n",
       "        text-align: right;\n",
       "    }\n",
       "</style>\n",
       "<table border=\"1\" class=\"dataframe\">\n",
       "  <thead>\n",
       "    <tr style=\"text-align: right;\">\n",
       "      <th></th>\n",
       "      <th>Predicted &lt; 3 Stars</th>\n",
       "      <th>Predicted &gt; 4 Stars</th>\n",
       "    </tr>\n",
       "  </thead>\n",
       "  <tbody>\n",
       "    <tr>\n",
       "      <td>Actual &lt; 3 Stars</td>\n",
       "      <td>440</td>\n",
       "      <td>0</td>\n",
       "    </tr>\n",
       "    <tr>\n",
       "      <td>Actual &gt; 4 Stars</td>\n",
       "      <td>0</td>\n",
       "      <td>573</td>\n",
       "    </tr>\n",
       "  </tbody>\n",
       "</table>\n",
       "</div>"
      ],
      "text/plain": [
       "                  Predicted < 3 Stars  Predicted > 4 Stars\n",
       "Actual < 3 Stars                  440                    0\n",
       "Actual > 4 Stars                    0                  573"
      ]
     },
     "execution_count": 242,
     "metadata": {},
     "output_type": "execute_result"
    }
   ],
   "source": [
    "resPredict = SVMmodel.predict(svm_test_scaled)\n",
    "preds = pd.DataFrame(confusion_matrix(svm_test_labels, resPredict))\n",
    "preds.columns = ['Predicted < 3 Stars', 'Predicted > 4 Stars']\n",
    "preds.index = ['Actual < 3 Stars', 'Actual > 4 Stars']\n",
    "preds"
   ]
  },
  {
   "cell_type": "markdown",
   "metadata": {},
   "source": [
    "The model performed too well. Some investigation must be done."
   ]
  },
  {
   "cell_type": "markdown",
   "metadata": {},
   "source": [
    "**Reminder:** Borrowed code."
   ]
  },
  {
   "cell_type": "markdown",
   "metadata": {},
   "source": [
    "## 4) Random Forest"
   ]
  },
  {
   "cell_type": "code",
   "execution_count": 202,
   "metadata": {},
   "outputs": [],
   "source": [
    "#Import Random Forest Model\n",
    "from sklearn.ensemble import RandomForestClassifier\n",
    "\n",
    "#Create a Gaussian Classifier\n",
    "clf=RandomForestClassifier(n_estimators=100)\n",
    "\n",
    "#Train the model using the training sets y_pred=clf.predict(X_test)\n",
    "clf.fit(X_train,y_train)\n",
    "\n",
    "y_pred=clf.predict(X_test)"
   ]
  },
  {
   "cell_type": "code",
   "execution_count": 203,
   "metadata": {},
   "outputs": [
    {
     "name": "stdout",
     "output_type": "stream",
     "text": [
      "Accuracy: 0.6209302325581395\n"
     ]
    }
   ],
   "source": [
    "#Import scikit-learn metrics module for accuracy calculation\n",
    "from sklearn import metrics\n",
    "# Model Accuracy, how often is the classifier correct?\n",
    "print(\"Accuracy:\",metrics.accuracy_score(y_test, y_pred))"
   ]
  },
  {
   "cell_type": "code",
   "execution_count": 211,
   "metadata": {},
   "outputs": [
    {
     "data": {
      "text/plain": [
       "review_count      0.476392\n",
       "total_checkins    0.488126\n",
       "takes_cards       0.012595\n",
       "alcohol           0.022887\n",
       "dtype: float64"
      ]
     },
     "execution_count": 211,
     "metadata": {},
     "output_type": "execute_result"
    }
   ],
   "source": [
    "feature_imp = pd.Series(clf.feature_importances_, index = feature_names)\n",
    "feature_imp"
   ]
  },
  {
   "cell_type": "code",
   "execution_count": 219,
   "metadata": {
    "scrolled": true
   },
   "outputs": [
    {
     "data": {
      "image/png": "[encoded data removed]",
      "text/plain": [
       "<Figure size 432x288 with 1 Axes>"
      ]
     },
     "metadata": {},
     "output_type": "display_data"
    }
   ],
   "source": [
    "sns.barplot(x=feature_imp, y=feature_names, palette = \"GnBu_d\")\n",
    "plt.xlabel('Feature Importance Score')\n",
    "plt.ylabel('Features')\n",
    "plt.title(\"Visualizing Important Features\")\n",
    "plt.show()"
   ]
  },
  {
   "cell_type": "markdown",
   "metadata": {},
   "source": [
    "* Now, let's see if the model will have improved performance if we eliminate \"useless\" features:"
   ]
  },
  {
   "cell_type": "code",
   "execution_count": 226,
   "metadata": {},
   "outputs": [],
   "source": [
    "X = model_df[['review_count', 'total_checkins']]  # Removed feature \"'takes_cards' and 'alcohol'\"\n",
    "X_train, X_test, y_train, y_test = train_test_split(X, y, test_size=0.2, random_state=5)"
   ]
  },
  {
   "cell_type": "code",
   "execution_count": 227,
   "metadata": {},
   "outputs": [],
   "source": [
    "#Create a Gaussian Classifier\n",
    "clf=RandomForestClassifier(n_estimators=100)\n",
    "\n",
    "#Train the model using the training sets y_pred=clf.predict(X_test)\n",
    "clf.fit(X_train,y_train)\n",
    "\n",
    "y_pred=clf.predict(X_test)"
   ]
  },
  {
   "cell_type": "code",
   "execution_count": 228,
   "metadata": {},
   "outputs": [
    {
     "name": "stdout",
     "output_type": "stream",
     "text": [
      "Accuracy: 0.608139534883721\n"
     ]
    }
   ],
   "source": [
    "print(\"Accuracy:\",metrics.accuracy_score(y_test, y_pred))"
   ]
  },
  {
   "cell_type": "code",
   "execution_count": 229,
   "metadata": {},
   "outputs": [
    {
     "name": "stdout",
     "output_type": "stream",
     "text": [
      "[[308 157]\n",
      " [180 215]]\n",
      "              precision    recall  f1-score   support\n",
      "\n",
      "         bad       0.63      0.66      0.65       465\n",
      "        good       0.58      0.54      0.56       395\n",
      "\n",
      "    accuracy                           0.61       860\n",
      "   macro avg       0.60      0.60      0.60       860\n",
      "weighted avg       0.61      0.61      0.61       860\n",
      "\n"
     ]
    }
   ],
   "source": [
    "print(confusion_matrix(y_test, y_pred))\n",
    "print(classification_report(y_test, y_pred))"
   ]
  },
  {
   "cell_type": "markdown",
   "metadata": {},
   "source": [
    "Model performed slightly worse..."
   ]
  },
  {
   "cell_type": "markdown",
   "metadata": {},
   "source": [
    "Note to self: for the future work, take a deeper dive into the attributes - model needs more features."
   ]
  },
  {
   "cell_type": "code",
   "execution_count": null,
   "metadata": {},
   "outputs": [],
   "source": []
  }
 ],
 "metadata": {
  "kernelspec": {
   "display_name": "Python 3",
   "language": "python",
   "name": "python3"
  },
  "language_info": {
   "codemirror_mode": {
    "name": "ipython",
    "version": 3
   },
   "file_extension": ".py",
   "mimetype": "text/x-python",
   "name": "python",
   "nbconvert_exporter": "python",
   "pygments_lexer": "ipython3",
   "version": "3.7.4"
  }
 },
 "nbformat": 4,
 "nbformat_minor": 2
}
